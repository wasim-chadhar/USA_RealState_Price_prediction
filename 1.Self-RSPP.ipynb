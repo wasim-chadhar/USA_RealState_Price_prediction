{
 "cells": [
  {
   "cell_type": "code",
   "execution_count": 1,
   "id": "5138952e",
   "metadata": {},
   "outputs": [],
   "source": [
    "import numpy as np\n",
    "import pandas as pd\n",
    "from matplotlib import pyplot as plt\n",
    "%matplotlib inline\n",
    "import matplotlib\n",
    "matplotlib.rcParams[\"figure.figsize\"] = (20, 20)\n",
    "\n",
    "import time\n"
   ]
  },
  {
   "cell_type": "code",
   "execution_count": 2,
   "id": "eada15e2",
   "metadata": {},
   "outputs": [
    {
     "data": {
      "text/html": [
       "<div>\n",
       "<style scoped>\n",
       "    .dataframe tbody tr th:only-of-type {\n",
       "        vertical-align: middle;\n",
       "    }\n",
       "\n",
       "    .dataframe tbody tr th {\n",
       "        vertical-align: top;\n",
       "    }\n",
       "\n",
       "    .dataframe thead th {\n",
       "        text-align: right;\n",
       "    }\n",
       "</style>\n",
       "<table border=\"1\" class=\"dataframe\">\n",
       "  <thead>\n",
       "    <tr style=\"text-align: right;\">\n",
       "      <th></th>\n",
       "      <th>status</th>\n",
       "      <th>price</th>\n",
       "      <th>bed</th>\n",
       "      <th>bath</th>\n",
       "      <th>acre_lot</th>\n",
       "      <th>full_address</th>\n",
       "      <th>street</th>\n",
       "      <th>city</th>\n",
       "      <th>state</th>\n",
       "      <th>zip_code</th>\n",
       "      <th>house_size</th>\n",
       "      <th>sold_date</th>\n",
       "    </tr>\n",
       "  </thead>\n",
       "  <tbody>\n",
       "    <tr>\n",
       "      <th>0</th>\n",
       "      <td>for_sale</td>\n",
       "      <td>105000.0</td>\n",
       "      <td>3.0</td>\n",
       "      <td>2.0</td>\n",
       "      <td>0.12</td>\n",
       "      <td>Sector Yahuecas Titulo # V84, Adjuntas, PR, 00601</td>\n",
       "      <td>Sector Yahuecas Titulo # V84</td>\n",
       "      <td>Adjuntas</td>\n",
       "      <td>Puerto Rico</td>\n",
       "      <td>601.0</td>\n",
       "      <td>920.0</td>\n",
       "      <td>NaN</td>\n",
       "    </tr>\n",
       "    <tr>\n",
       "      <th>1</th>\n",
       "      <td>for_sale</td>\n",
       "      <td>80000.0</td>\n",
       "      <td>4.0</td>\n",
       "      <td>2.0</td>\n",
       "      <td>0.08</td>\n",
       "      <td>Km 78 9 Carr # 135, Adjuntas, PR, 00601</td>\n",
       "      <td>Km 78 9 Carr # 135</td>\n",
       "      <td>Adjuntas</td>\n",
       "      <td>Puerto Rico</td>\n",
       "      <td>601.0</td>\n",
       "      <td>1527.0</td>\n",
       "      <td>NaN</td>\n",
       "    </tr>\n",
       "    <tr>\n",
       "      <th>2</th>\n",
       "      <td>for_sale</td>\n",
       "      <td>67000.0</td>\n",
       "      <td>2.0</td>\n",
       "      <td>1.0</td>\n",
       "      <td>0.15</td>\n",
       "      <td>556G 556-G 16 St, Juana Diaz, PR, 00795</td>\n",
       "      <td>556G 556-G 16 St</td>\n",
       "      <td>Juana Diaz</td>\n",
       "      <td>Puerto Rico</td>\n",
       "      <td>795.0</td>\n",
       "      <td>748.0</td>\n",
       "      <td>NaN</td>\n",
       "    </tr>\n",
       "    <tr>\n",
       "      <th>3</th>\n",
       "      <td>for_sale</td>\n",
       "      <td>145000.0</td>\n",
       "      <td>4.0</td>\n",
       "      <td>2.0</td>\n",
       "      <td>0.10</td>\n",
       "      <td>R5 Comunidad El Paraso Calle De Oro R-5 Ponce,...</td>\n",
       "      <td>R5 Comunidad El Paraso Calle De Oro R-5 Ponce</td>\n",
       "      <td>Ponce</td>\n",
       "      <td>Puerto Rico</td>\n",
       "      <td>731.0</td>\n",
       "      <td>1800.0</td>\n",
       "      <td>NaN</td>\n",
       "    </tr>\n",
       "    <tr>\n",
       "      <th>4</th>\n",
       "      <td>for_sale</td>\n",
       "      <td>65000.0</td>\n",
       "      <td>6.0</td>\n",
       "      <td>2.0</td>\n",
       "      <td>0.05</td>\n",
       "      <td>14 Navarro, Mayaguez, PR, 00680</td>\n",
       "      <td>14 Navarro</td>\n",
       "      <td>Mayaguez</td>\n",
       "      <td>Puerto Rico</td>\n",
       "      <td>680.0</td>\n",
       "      <td>NaN</td>\n",
       "      <td>NaN</td>\n",
       "    </tr>\n",
       "  </tbody>\n",
       "</table>\n",
       "</div>"
      ],
      "text/plain": [
       "     status     price  bed  bath  acre_lot  \\\n",
       "0  for_sale  105000.0  3.0   2.0      0.12   \n",
       "1  for_sale   80000.0  4.0   2.0      0.08   \n",
       "2  for_sale   67000.0  2.0   1.0      0.15   \n",
       "3  for_sale  145000.0  4.0   2.0      0.10   \n",
       "4  for_sale   65000.0  6.0   2.0      0.05   \n",
       "\n",
       "                                        full_address  \\\n",
       "0  Sector Yahuecas Titulo # V84, Adjuntas, PR, 00601   \n",
       "1            Km 78 9 Carr # 135, Adjuntas, PR, 00601   \n",
       "2            556G 556-G 16 St, Juana Diaz, PR, 00795   \n",
       "3  R5 Comunidad El Paraso Calle De Oro R-5 Ponce,...   \n",
       "4                    14 Navarro, Mayaguez, PR, 00680   \n",
       "\n",
       "                                          street        city        state  \\\n",
       "0                   Sector Yahuecas Titulo # V84    Adjuntas  Puerto Rico   \n",
       "1                             Km 78 9 Carr # 135    Adjuntas  Puerto Rico   \n",
       "2                               556G 556-G 16 St  Juana Diaz  Puerto Rico   \n",
       "3  R5 Comunidad El Paraso Calle De Oro R-5 Ponce       Ponce  Puerto Rico   \n",
       "4                                     14 Navarro    Mayaguez  Puerto Rico   \n",
       "\n",
       "   zip_code  house_size sold_date  \n",
       "0     601.0       920.0       NaN  \n",
       "1     601.0      1527.0       NaN  \n",
       "2     795.0       748.0       NaN  \n",
       "3     731.0      1800.0       NaN  \n",
       "4     680.0         NaN       NaN  "
      ]
     },
     "execution_count": 2,
     "metadata": {},
     "output_type": "execute_result"
    }
   ],
   "source": [
    "df1 = pd.read_csv(\"realStateData.csv\")\n",
    "df1.head()\n"
   ]
  },
  {
   "cell_type": "code",
   "execution_count": 3,
   "id": "2e8e3394",
   "metadata": {},
   "outputs": [
    {
     "data": {
      "text/plain": [
       "(923159, 12)"
      ]
     },
     "execution_count": 3,
     "metadata": {},
     "output_type": "execute_result"
    }
   ],
   "source": [
    "df1.shape"
   ]
  },
  {
   "cell_type": "code",
   "execution_count": 4,
   "id": "e87374c6",
   "metadata": {},
   "outputs": [
    {
     "data": {
      "text/plain": [
       "state\n",
       "Connecticut        91644\n",
       "Delaware            2135\n",
       "Georgia               50\n",
       "Maine              36650\n",
       "Massachusetts     175248\n",
       "New Hampshire      51394\n",
       "New Jersey        233722\n",
       "New York          211778\n",
       "Pennsylvania       17148\n",
       "Puerto Rico        24679\n",
       "Rhode Island       29596\n",
       "South Carolina        25\n",
       "Tennessee             20\n",
       "Vermont            46460\n",
       "Virgin Islands      2573\n",
       "Virginia              31\n",
       "West Virginia          3\n",
       "Wyoming                3\n",
       "Name: state, dtype: int64"
      ]
     },
     "execution_count": 4,
     "metadata": {},
     "output_type": "execute_result"
    }
   ],
   "source": [
    "df1.groupby('state')['state'].agg('count')"
   ]
  },
  {
   "cell_type": "code",
   "execution_count": 5,
   "id": "7e517483",
   "metadata": {},
   "outputs": [
    {
     "data": {
      "text/html": [
       "<div>\n",
       "<style scoped>\n",
       "    .dataframe tbody tr th:only-of-type {\n",
       "        vertical-align: middle;\n",
       "    }\n",
       "\n",
       "    .dataframe tbody tr th {\n",
       "        vertical-align: top;\n",
       "    }\n",
       "\n",
       "    .dataframe thead th {\n",
       "        text-align: right;\n",
       "    }\n",
       "</style>\n",
       "<table border=\"1\" class=\"dataframe\">\n",
       "  <thead>\n",
       "    <tr style=\"text-align: right;\">\n",
       "      <th></th>\n",
       "      <th>price</th>\n",
       "      <th>bed</th>\n",
       "      <th>bath</th>\n",
       "      <th>city</th>\n",
       "      <th>state</th>\n",
       "      <th>house_size</th>\n",
       "    </tr>\n",
       "  </thead>\n",
       "  <tbody>\n",
       "    <tr>\n",
       "      <th>0</th>\n",
       "      <td>105000.0</td>\n",
       "      <td>3.0</td>\n",
       "      <td>2.0</td>\n",
       "      <td>Adjuntas</td>\n",
       "      <td>Puerto Rico</td>\n",
       "      <td>920.0</td>\n",
       "    </tr>\n",
       "    <tr>\n",
       "      <th>1</th>\n",
       "      <td>80000.0</td>\n",
       "      <td>4.0</td>\n",
       "      <td>2.0</td>\n",
       "      <td>Adjuntas</td>\n",
       "      <td>Puerto Rico</td>\n",
       "      <td>1527.0</td>\n",
       "    </tr>\n",
       "    <tr>\n",
       "      <th>2</th>\n",
       "      <td>67000.0</td>\n",
       "      <td>2.0</td>\n",
       "      <td>1.0</td>\n",
       "      <td>Juana Diaz</td>\n",
       "      <td>Puerto Rico</td>\n",
       "      <td>748.0</td>\n",
       "    </tr>\n",
       "    <tr>\n",
       "      <th>3</th>\n",
       "      <td>145000.0</td>\n",
       "      <td>4.0</td>\n",
       "      <td>2.0</td>\n",
       "      <td>Ponce</td>\n",
       "      <td>Puerto Rico</td>\n",
       "      <td>1800.0</td>\n",
       "    </tr>\n",
       "    <tr>\n",
       "      <th>4</th>\n",
       "      <td>65000.0</td>\n",
       "      <td>6.0</td>\n",
       "      <td>2.0</td>\n",
       "      <td>Mayaguez</td>\n",
       "      <td>Puerto Rico</td>\n",
       "      <td>NaN</td>\n",
       "    </tr>\n",
       "  </tbody>\n",
       "</table>\n",
       "</div>"
      ],
      "text/plain": [
       "      price  bed  bath        city        state  house_size\n",
       "0  105000.0  3.0   2.0    Adjuntas  Puerto Rico       920.0\n",
       "1   80000.0  4.0   2.0    Adjuntas  Puerto Rico      1527.0\n",
       "2   67000.0  2.0   1.0  Juana Diaz  Puerto Rico       748.0\n",
       "3  145000.0  4.0   2.0       Ponce  Puerto Rico      1800.0\n",
       "4   65000.0  6.0   2.0    Mayaguez  Puerto Rico         NaN"
      ]
     },
     "execution_count": 5,
     "metadata": {},
     "output_type": "execute_result"
    }
   ],
   "source": [
    "df2 = df1.drop(['status', 'acre_lot', 'full_address', 'street', 'zip_code', 'sold_date'], axis= 'columns')\n",
    "df2.head()"
   ]
  },
  {
   "cell_type": "code",
   "execution_count": 6,
   "id": "d68ad598",
   "metadata": {},
   "outputs": [
    {
     "data": {
      "text/plain": [
       "price             71\n",
       "bed           131703\n",
       "bath          115192\n",
       "city              74\n",
       "state              0\n",
       "house_size    297843\n",
       "dtype: int64"
      ]
     },
     "execution_count": 6,
     "metadata": {},
     "output_type": "execute_result"
    }
   ],
   "source": [
    "df2.isnull().sum()"
   ]
  },
  {
   "cell_type": "code",
   "execution_count": 7,
   "id": "555cb579",
   "metadata": {},
   "outputs": [],
   "source": [
    "# df2.fillna(df2['price'].median(), inplace=True)\n",
    "df3 =df2.dropna()\n"
   ]
  },
  {
   "cell_type": "code",
   "execution_count": 8,
   "id": "48f7a230",
   "metadata": {},
   "outputs": [
    {
     "data": {
      "text/plain": [
       "price         0\n",
       "bed           0\n",
       "bath          0\n",
       "city          0\n",
       "state         0\n",
       "house_size    0\n",
       "dtype: int64"
      ]
     },
     "execution_count": 8,
     "metadata": {},
     "output_type": "execute_result"
    }
   ],
   "source": [
    "df3.isnull().sum()"
   ]
  },
  {
   "cell_type": "code",
   "execution_count": 9,
   "id": "2036c77e",
   "metadata": {},
   "outputs": [
    {
     "data": {
      "text/plain": [
       "(601978, 6)"
      ]
     },
     "execution_count": 9,
     "metadata": {},
     "output_type": "execute_result"
    }
   ],
   "source": [
    "df3.shape\n"
   ]
  },
  {
   "cell_type": "code",
   "execution_count": 10,
   "id": "2006c9cf",
   "metadata": {},
   "outputs": [
    {
     "data": {
      "text/plain": [
       "array([  920.,  1527.,   748., ...,  5929., 20298.,  7497.])"
      ]
     },
     "execution_count": 10,
     "metadata": {},
     "output_type": "execute_result"
    }
   ],
   "source": [
    "df3[\"house_size\"].unique()"
   ]
  },
  {
   "cell_type": "code",
   "execution_count": 11,
   "id": "8eacad64",
   "metadata": {},
   "outputs": [
    {
     "data": {
      "text/plain": [
       "array([  105000.,    80000.,    67000., ...,   399976.,   639990.,\n",
       "       11800000.])"
      ]
     },
     "execution_count": 11,
     "metadata": {},
     "output_type": "execute_result"
    }
   ],
   "source": [
    "df3[\"price\"].unique()"
   ]
  },
  {
   "cell_type": "code",
   "execution_count": 12,
   "id": "75f26e7c",
   "metadata": {},
   "outputs": [
    {
     "data": {
      "text/plain": [
       "array(['Adjuntas', 'Juana Diaz', 'Ponce', ..., 'Rock Tavern',\n",
       "       'Cornwall On Hudson', 'New Hamburg'], dtype=object)"
      ]
     },
     "execution_count": 12,
     "metadata": {},
     "output_type": "execute_result"
    }
   ],
   "source": [
    "df3[\"city\"].unique()"
   ]
  },
  {
   "cell_type": "code",
   "execution_count": 13,
   "id": "985b7e85",
   "metadata": {},
   "outputs": [
    {
     "name": "stderr",
     "output_type": "stream",
     "text": [
      "C:\\Users\\AB\\AppData\\Local\\Temp/ipykernel_68/2969083209.py:1: SettingWithCopyWarning: \n",
      "A value is trying to be set on a copy of a slice from a DataFrame.\n",
      "Try using .loc[row_indexer,col_indexer] = value instead\n",
      "\n",
      "See the caveats in the documentation: https://pandas.pydata.org/pandas-docs/stable/user_guide/indexing.html#returning-a-view-versus-a-copy\n",
      "  df3['location'] = df3['city'].str.cat(df3['state'], sep=' ')\n"
     ]
    },
    {
     "data": {
      "text/html": [
       "<div>\n",
       "<style scoped>\n",
       "    .dataframe tbody tr th:only-of-type {\n",
       "        vertical-align: middle;\n",
       "    }\n",
       "\n",
       "    .dataframe tbody tr th {\n",
       "        vertical-align: top;\n",
       "    }\n",
       "\n",
       "    .dataframe thead th {\n",
       "        text-align: right;\n",
       "    }\n",
       "</style>\n",
       "<table border=\"1\" class=\"dataframe\">\n",
       "  <thead>\n",
       "    <tr style=\"text-align: right;\">\n",
       "      <th></th>\n",
       "      <th>price</th>\n",
       "      <th>bed</th>\n",
       "      <th>bath</th>\n",
       "      <th>city</th>\n",
       "      <th>state</th>\n",
       "      <th>house_size</th>\n",
       "      <th>location</th>\n",
       "    </tr>\n",
       "  </thead>\n",
       "  <tbody>\n",
       "    <tr>\n",
       "      <th>0</th>\n",
       "      <td>105000.0</td>\n",
       "      <td>3.0</td>\n",
       "      <td>2.0</td>\n",
       "      <td>Adjuntas</td>\n",
       "      <td>Puerto Rico</td>\n",
       "      <td>920.0</td>\n",
       "      <td>Adjuntas Puerto Rico</td>\n",
       "    </tr>\n",
       "    <tr>\n",
       "      <th>1</th>\n",
       "      <td>80000.0</td>\n",
       "      <td>4.0</td>\n",
       "      <td>2.0</td>\n",
       "      <td>Adjuntas</td>\n",
       "      <td>Puerto Rico</td>\n",
       "      <td>1527.0</td>\n",
       "      <td>Adjuntas Puerto Rico</td>\n",
       "    </tr>\n",
       "    <tr>\n",
       "      <th>2</th>\n",
       "      <td>67000.0</td>\n",
       "      <td>2.0</td>\n",
       "      <td>1.0</td>\n",
       "      <td>Juana Diaz</td>\n",
       "      <td>Puerto Rico</td>\n",
       "      <td>748.0</td>\n",
       "      <td>Juana Diaz Puerto Rico</td>\n",
       "    </tr>\n",
       "    <tr>\n",
       "      <th>3</th>\n",
       "      <td>145000.0</td>\n",
       "      <td>4.0</td>\n",
       "      <td>2.0</td>\n",
       "      <td>Ponce</td>\n",
       "      <td>Puerto Rico</td>\n",
       "      <td>1800.0</td>\n",
       "      <td>Ponce Puerto Rico</td>\n",
       "    </tr>\n",
       "    <tr>\n",
       "      <th>5</th>\n",
       "      <td>179000.0</td>\n",
       "      <td>4.0</td>\n",
       "      <td>3.0</td>\n",
       "      <td>San Sebastian</td>\n",
       "      <td>Puerto Rico</td>\n",
       "      <td>2520.0</td>\n",
       "      <td>San Sebastian Puerto Rico</td>\n",
       "    </tr>\n",
       "  </tbody>\n",
       "</table>\n",
       "</div>"
      ],
      "text/plain": [
       "      price  bed  bath           city        state  house_size  \\\n",
       "0  105000.0  3.0   2.0       Adjuntas  Puerto Rico       920.0   \n",
       "1   80000.0  4.0   2.0       Adjuntas  Puerto Rico      1527.0   \n",
       "2   67000.0  2.0   1.0     Juana Diaz  Puerto Rico       748.0   \n",
       "3  145000.0  4.0   2.0          Ponce  Puerto Rico      1800.0   \n",
       "5  179000.0  4.0   3.0  San Sebastian  Puerto Rico      2520.0   \n",
       "\n",
       "                    location  \n",
       "0       Adjuntas Puerto Rico  \n",
       "1       Adjuntas Puerto Rico  \n",
       "2     Juana Diaz Puerto Rico  \n",
       "3          Ponce Puerto Rico  \n",
       "5  San Sebastian Puerto Rico  "
      ]
     },
     "execution_count": 13,
     "metadata": {},
     "output_type": "execute_result"
    }
   ],
   "source": [
    "df3['location'] = df3['city'].str.cat(df3['state'], sep=' ')\n",
    "\n",
    "df3.head()"
   ]
  },
  {
   "cell_type": "code",
   "execution_count": 14,
   "id": "414c7fb5",
   "metadata": {},
   "outputs": [],
   "source": [
    "# Remove Spaces Leading & Trailing\n",
    "# df2.location = df2.location.apply(lambda x : x.strip())"
   ]
  },
  {
   "cell_type": "code",
   "execution_count": 15,
   "id": "72e061e6",
   "metadata": {},
   "outputs": [],
   "source": [
    "df4 = df3.copy()"
   ]
  },
  {
   "cell_type": "code",
   "execution_count": 16,
   "id": "883f49e2",
   "metadata": {},
   "outputs": [
    {
     "data": {
      "text/plain": [
       "(601978, 7)"
      ]
     },
     "execution_count": 16,
     "metadata": {},
     "output_type": "execute_result"
    }
   ],
   "source": [
    "df4.shape"
   ]
  },
  {
   "cell_type": "code",
   "execution_count": 17,
   "id": "cea5c157",
   "metadata": {},
   "outputs": [
    {
     "data": {
      "text/plain": [
       "location\n",
       "Boston Massachusetts        29926\n",
       "New York City New York      27681\n",
       "New York New York           24324\n",
       "Brooklyn New York           15421\n",
       "Bronx New York               9212\n",
       "                            ...  \n",
       "Maple Glen Pennsylvania         1\n",
       "Matinicus Isle Plt Maine        1\n",
       "Mongaup Valley New York         1\n",
       "Moscow Maine                    1\n",
       "Kenduskeag Maine                1\n",
       "Name: location, Length: 2844, dtype: int64"
      ]
     },
     "execution_count": 17,
     "metadata": {},
     "output_type": "execute_result"
    }
   ],
   "source": [
    "location_stats = df4.groupby('location')['location'].agg('count').sort_values(ascending=False)\n",
    "location_stats"
   ]
  },
  {
   "cell_type": "code",
   "execution_count": 18,
   "id": "ac699d32",
   "metadata": {},
   "outputs": [
    {
     "data": {
      "text/plain": [
       "array(['Adjuntas Puerto Rico', 'Juana Diaz Puerto Rico',\n",
       "       'Ponce Puerto Rico', ..., 'Rock Tavern New York',\n",
       "       'Cornwall On Hudson New York', 'New Hamburg New York'],\n",
       "      dtype=object)"
      ]
     },
     "execution_count": 18,
     "metadata": {},
     "output_type": "execute_result"
    }
   ],
   "source": [
    "# len(location_stats < 10)\n",
    "df4.location.unique()"
   ]
  },
  {
   "cell_type": "code",
   "execution_count": 19,
   "id": "67108590",
   "metadata": {},
   "outputs": [
    {
     "data": {
      "text/html": [
       "<div>\n",
       "<style scoped>\n",
       "    .dataframe tbody tr th:only-of-type {\n",
       "        vertical-align: middle;\n",
       "    }\n",
       "\n",
       "    .dataframe tbody tr th {\n",
       "        vertical-align: top;\n",
       "    }\n",
       "\n",
       "    .dataframe thead th {\n",
       "        text-align: right;\n",
       "    }\n",
       "</style>\n",
       "<table border=\"1\" class=\"dataframe\">\n",
       "  <thead>\n",
       "    <tr style=\"text-align: right;\">\n",
       "      <th></th>\n",
       "      <th>price</th>\n",
       "      <th>bed</th>\n",
       "      <th>bath</th>\n",
       "      <th>city</th>\n",
       "      <th>state</th>\n",
       "      <th>house_size</th>\n",
       "      <th>location</th>\n",
       "    </tr>\n",
       "  </thead>\n",
       "  <tbody>\n",
       "    <tr>\n",
       "      <th>0</th>\n",
       "      <td>105000.0</td>\n",
       "      <td>3.0</td>\n",
       "      <td>2.0</td>\n",
       "      <td>Adjuntas</td>\n",
       "      <td>Puerto Rico</td>\n",
       "      <td>920.0</td>\n",
       "      <td>Adjuntas Puerto Rico</td>\n",
       "    </tr>\n",
       "    <tr>\n",
       "      <th>1</th>\n",
       "      <td>80000.0</td>\n",
       "      <td>4.0</td>\n",
       "      <td>2.0</td>\n",
       "      <td>Adjuntas</td>\n",
       "      <td>Puerto Rico</td>\n",
       "      <td>1527.0</td>\n",
       "      <td>Adjuntas Puerto Rico</td>\n",
       "    </tr>\n",
       "    <tr>\n",
       "      <th>2</th>\n",
       "      <td>67000.0</td>\n",
       "      <td>2.0</td>\n",
       "      <td>1.0</td>\n",
       "      <td>Juana Diaz</td>\n",
       "      <td>Puerto Rico</td>\n",
       "      <td>748.0</td>\n",
       "      <td>Juana Diaz Puerto Rico</td>\n",
       "    </tr>\n",
       "    <tr>\n",
       "      <th>3</th>\n",
       "      <td>145000.0</td>\n",
       "      <td>4.0</td>\n",
       "      <td>2.0</td>\n",
       "      <td>Ponce</td>\n",
       "      <td>Puerto Rico</td>\n",
       "      <td>1800.0</td>\n",
       "      <td>Ponce Puerto Rico</td>\n",
       "    </tr>\n",
       "    <tr>\n",
       "      <th>5</th>\n",
       "      <td>179000.0</td>\n",
       "      <td>4.0</td>\n",
       "      <td>3.0</td>\n",
       "      <td>San Sebastian</td>\n",
       "      <td>Puerto Rico</td>\n",
       "      <td>2520.0</td>\n",
       "      <td>San Sebastian Puerto Rico</td>\n",
       "    </tr>\n",
       "  </tbody>\n",
       "</table>\n",
       "</div>"
      ],
      "text/plain": [
       "      price  bed  bath           city        state  house_size  \\\n",
       "0  105000.0  3.0   2.0       Adjuntas  Puerto Rico       920.0   \n",
       "1   80000.0  4.0   2.0       Adjuntas  Puerto Rico      1527.0   \n",
       "2   67000.0  2.0   1.0     Juana Diaz  Puerto Rico       748.0   \n",
       "3  145000.0  4.0   2.0          Ponce  Puerto Rico      1800.0   \n",
       "5  179000.0  4.0   3.0  San Sebastian  Puerto Rico      2520.0   \n",
       "\n",
       "                    location  \n",
       "0       Adjuntas Puerto Rico  \n",
       "1       Adjuntas Puerto Rico  \n",
       "2     Juana Diaz Puerto Rico  \n",
       "3          Ponce Puerto Rico  \n",
       "5  San Sebastian Puerto Rico  "
      ]
     },
     "execution_count": 19,
     "metadata": {},
     "output_type": "execute_result"
    }
   ],
   "source": [
    "location_stats_less_than_10 = location_stats[location_stats <= 10]\n",
    "\n",
    "df4.location = df4.location.apply(lambda x : 'other' if x in location_stats_less_than_10 else x)\n",
    "\n",
    "df4.head()"
   ]
  },
  {
   "cell_type": "code",
   "execution_count": 20,
   "id": "81b4a6f3",
   "metadata": {},
   "outputs": [
    {
     "data": {
      "text/plain": [
       "price                       70000.0\n",
       "bed                             2.0\n",
       "bath                            1.0\n",
       "city                      Naranjito\n",
       "state                   Puerto Rico\n",
       "house_size                    620.0\n",
       "location      Naranjito Puerto Rico\n",
       "Name: 9007, dtype: object"
      ]
     },
     "execution_count": 20,
     "metadata": {},
     "output_type": "execute_result"
    }
   ],
   "source": [
    "# df4.shape\n",
    "df4.loc[9007]"
   ]
  },
  {
   "cell_type": "code",
   "execution_count": 21,
   "id": "92c08834",
   "metadata": {},
   "outputs": [
    {
     "data": {
      "text/html": [
       "<div>\n",
       "<style scoped>\n",
       "    .dataframe tbody tr th:only-of-type {\n",
       "        vertical-align: middle;\n",
       "    }\n",
       "\n",
       "    .dataframe tbody tr th {\n",
       "        vertical-align: top;\n",
       "    }\n",
       "\n",
       "    .dataframe thead th {\n",
       "        text-align: right;\n",
       "    }\n",
       "</style>\n",
       "<table border=\"1\" class=\"dataframe\">\n",
       "  <thead>\n",
       "    <tr style=\"text-align: right;\">\n",
       "      <th></th>\n",
       "      <th>price</th>\n",
       "      <th>bed</th>\n",
       "      <th>bath</th>\n",
       "      <th>city</th>\n",
       "      <th>state</th>\n",
       "      <th>house_size</th>\n",
       "      <th>location</th>\n",
       "      <th>price_per_sqft</th>\n",
       "    </tr>\n",
       "  </thead>\n",
       "  <tbody>\n",
       "    <tr>\n",
       "      <th>0</th>\n",
       "      <td>105000.0</td>\n",
       "      <td>3.0</td>\n",
       "      <td>2.0</td>\n",
       "      <td>Adjuntas</td>\n",
       "      <td>Puerto Rico</td>\n",
       "      <td>920.0</td>\n",
       "      <td>Adjuntas Puerto Rico</td>\n",
       "      <td>114.130435</td>\n",
       "    </tr>\n",
       "    <tr>\n",
       "      <th>1</th>\n",
       "      <td>80000.0</td>\n",
       "      <td>4.0</td>\n",
       "      <td>2.0</td>\n",
       "      <td>Adjuntas</td>\n",
       "      <td>Puerto Rico</td>\n",
       "      <td>1527.0</td>\n",
       "      <td>Adjuntas Puerto Rico</td>\n",
       "      <td>52.390308</td>\n",
       "    </tr>\n",
       "    <tr>\n",
       "      <th>2</th>\n",
       "      <td>67000.0</td>\n",
       "      <td>2.0</td>\n",
       "      <td>1.0</td>\n",
       "      <td>Juana Diaz</td>\n",
       "      <td>Puerto Rico</td>\n",
       "      <td>748.0</td>\n",
       "      <td>Juana Diaz Puerto Rico</td>\n",
       "      <td>89.572193</td>\n",
       "    </tr>\n",
       "    <tr>\n",
       "      <th>3</th>\n",
       "      <td>145000.0</td>\n",
       "      <td>4.0</td>\n",
       "      <td>2.0</td>\n",
       "      <td>Ponce</td>\n",
       "      <td>Puerto Rico</td>\n",
       "      <td>1800.0</td>\n",
       "      <td>Ponce Puerto Rico</td>\n",
       "      <td>80.555556</td>\n",
       "    </tr>\n",
       "    <tr>\n",
       "      <th>5</th>\n",
       "      <td>179000.0</td>\n",
       "      <td>4.0</td>\n",
       "      <td>3.0</td>\n",
       "      <td>San Sebastian</td>\n",
       "      <td>Puerto Rico</td>\n",
       "      <td>2520.0</td>\n",
       "      <td>San Sebastian Puerto Rico</td>\n",
       "      <td>71.031746</td>\n",
       "    </tr>\n",
       "  </tbody>\n",
       "</table>\n",
       "</div>"
      ],
      "text/plain": [
       "      price  bed  bath           city        state  house_size  \\\n",
       "0  105000.0  3.0   2.0       Adjuntas  Puerto Rico       920.0   \n",
       "1   80000.0  4.0   2.0       Adjuntas  Puerto Rico      1527.0   \n",
       "2   67000.0  2.0   1.0     Juana Diaz  Puerto Rico       748.0   \n",
       "3  145000.0  4.0   2.0          Ponce  Puerto Rico      1800.0   \n",
       "5  179000.0  4.0   3.0  San Sebastian  Puerto Rico      2520.0   \n",
       "\n",
       "                    location  price_per_sqft  \n",
       "0       Adjuntas Puerto Rico      114.130435  \n",
       "1       Adjuntas Puerto Rico       52.390308  \n",
       "2     Juana Diaz Puerto Rico       89.572193  \n",
       "3          Ponce Puerto Rico       80.555556  \n",
       "5  San Sebastian Puerto Rico       71.031746  "
      ]
     },
     "execution_count": 21,
     "metadata": {},
     "output_type": "execute_result"
    }
   ],
   "source": [
    "df4['price_per_sqft'] = df4['price'] / df4['house_size']\n",
    "df4.head()"
   ]
  },
  {
   "cell_type": "code",
   "execution_count": 22,
   "id": "da2037da",
   "metadata": {},
   "outputs": [
    {
     "data": {
      "text/plain": [
       "count    601978.000000\n",
       "mean        466.599613\n",
       "std        1073.727571\n",
       "min           0.204583\n",
       "25%         183.850575\n",
       "50%         279.823270\n",
       "75%         500.000000\n",
       "max      358606.557377\n",
       "Name: price_per_sqft, dtype: float64"
      ]
     },
     "execution_count": 22,
     "metadata": {},
     "output_type": "execute_result"
    }
   ],
   "source": [
    "df4['price_per_sqft'].describe()"
   ]
  },
  {
   "cell_type": "code",
   "execution_count": 23,
   "id": "448259d2",
   "metadata": {},
   "outputs": [
    {
     "data": {
      "text/html": [
       "<div>\n",
       "<style scoped>\n",
       "    .dataframe tbody tr th:only-of-type {\n",
       "        vertical-align: middle;\n",
       "    }\n",
       "\n",
       "    .dataframe tbody tr th {\n",
       "        vertical-align: top;\n",
       "    }\n",
       "\n",
       "    .dataframe thead th {\n",
       "        text-align: right;\n",
       "    }\n",
       "</style>\n",
       "<table border=\"1\" class=\"dataframe\">\n",
       "  <thead>\n",
       "    <tr style=\"text-align: right;\">\n",
       "      <th></th>\n",
       "      <th>price</th>\n",
       "      <th>bed</th>\n",
       "      <th>bath</th>\n",
       "      <th>city</th>\n",
       "      <th>state</th>\n",
       "      <th>house_size</th>\n",
       "      <th>location</th>\n",
       "      <th>price_per_sqft</th>\n",
       "    </tr>\n",
       "  </thead>\n",
       "  <tbody>\n",
       "    <tr>\n",
       "      <th>0</th>\n",
       "      <td>550000.0</td>\n",
       "      <td>3.0</td>\n",
       "      <td>2.0</td>\n",
       "      <td>Aberdeen</td>\n",
       "      <td>New Jersey</td>\n",
       "      <td>1998.0</td>\n",
       "      <td>Aberdeen New Jersey</td>\n",
       "      <td>275.275275</td>\n",
       "    </tr>\n",
       "    <tr>\n",
       "      <th>1</th>\n",
       "      <td>385000.0</td>\n",
       "      <td>2.0</td>\n",
       "      <td>3.0</td>\n",
       "      <td>Aberdeen</td>\n",
       "      <td>New Jersey</td>\n",
       "      <td>1284.0</td>\n",
       "      <td>Aberdeen New Jersey</td>\n",
       "      <td>299.844237</td>\n",
       "    </tr>\n",
       "    <tr>\n",
       "      <th>2</th>\n",
       "      <td>564900.0</td>\n",
       "      <td>4.0</td>\n",
       "      <td>3.0</td>\n",
       "      <td>Aberdeen</td>\n",
       "      <td>New Jersey</td>\n",
       "      <td>1860.0</td>\n",
       "      <td>Aberdeen New Jersey</td>\n",
       "      <td>303.709677</td>\n",
       "    </tr>\n",
       "    <tr>\n",
       "      <th>3</th>\n",
       "      <td>550000.0</td>\n",
       "      <td>3.0</td>\n",
       "      <td>3.0</td>\n",
       "      <td>Aberdeen</td>\n",
       "      <td>New Jersey</td>\n",
       "      <td>1883.0</td>\n",
       "      <td>Aberdeen New Jersey</td>\n",
       "      <td>292.087095</td>\n",
       "    </tr>\n",
       "    <tr>\n",
       "      <th>4</th>\n",
       "      <td>334900.0</td>\n",
       "      <td>3.0</td>\n",
       "      <td>3.0</td>\n",
       "      <td>Aberdeen</td>\n",
       "      <td>New Jersey</td>\n",
       "      <td>1254.0</td>\n",
       "      <td>Aberdeen New Jersey</td>\n",
       "      <td>267.065391</td>\n",
       "    </tr>\n",
       "  </tbody>\n",
       "</table>\n",
       "</div>"
      ],
      "text/plain": [
       "      price  bed  bath      city       state  house_size             location  \\\n",
       "0  550000.0  3.0   2.0  Aberdeen  New Jersey      1998.0  Aberdeen New Jersey   \n",
       "1  385000.0  2.0   3.0  Aberdeen  New Jersey      1284.0  Aberdeen New Jersey   \n",
       "2  564900.0  4.0   3.0  Aberdeen  New Jersey      1860.0  Aberdeen New Jersey   \n",
       "3  550000.0  3.0   3.0  Aberdeen  New Jersey      1883.0  Aberdeen New Jersey   \n",
       "4  334900.0  3.0   3.0  Aberdeen  New Jersey      1254.0  Aberdeen New Jersey   \n",
       "\n",
       "   price_per_sqft  \n",
       "0      275.275275  \n",
       "1      299.844237  \n",
       "2      303.709677  \n",
       "3      292.087095  \n",
       "4      267.065391  "
      ]
     },
     "execution_count": 23,
     "metadata": {},
     "output_type": "execute_result"
    }
   ],
   "source": [
    "def remove_pps_outlier(df):\n",
    "    df_out = pd.DataFrame()\n",
    "    for key, subdf in df.groupby('location'):\n",
    "        m = np.mean(subdf.price_per_sqft)\n",
    "        std = np.std(subdf.price_per_sqft)\n",
    "        reduce_df = subdf[(subdf.price_per_sqft > (m - std)) & (subdf.price_per_sqft <= (m + std))]\n",
    "\n",
    "        df_out = pd.concat([df_out, reduce_df], ignore_index=True)\n",
    "        \n",
    "    return df_out\n",
    "        \n",
    "df5 = remove_pps_outlier(df4)\n",
    "df5.head()\n"
   ]
  },
  {
   "cell_type": "code",
   "execution_count": 24,
   "id": "d7f3a0b5",
   "metadata": {},
   "outputs": [
    {
     "data": {
      "text/plain": [
       "(445156, 8)"
      ]
     },
     "execution_count": 24,
     "metadata": {},
     "output_type": "execute_result"
    }
   ],
   "source": [
    "df5.shape"
   ]
  },
  {
   "cell_type": "code",
   "execution_count": 25,
   "id": "fde17e60",
   "metadata": {},
   "outputs": [
    {
     "data": {
      "text/plain": [
       "count    445156.000000\n",
       "mean        442.019937\n",
       "std         428.246411\n",
       "min           5.689216\n",
       "25%         189.433178\n",
       "50%         278.352941\n",
       "75%         500.912409\n",
       "max        3146.341463\n",
       "Name: price_per_sqft, dtype: float64"
      ]
     },
     "execution_count": 25,
     "metadata": {},
     "output_type": "execute_result"
    }
   ],
   "source": [
    "df5['price_per_sqft'].describe()"
   ]
  },
  {
   "cell_type": "code",
   "execution_count": 26,
   "id": "1c3c674a",
   "metadata": {},
   "outputs": [
    {
     "data": {
      "text/html": [
       "<div>\n",
       "<style scoped>\n",
       "    .dataframe tbody tr th:only-of-type {\n",
       "        vertical-align: middle;\n",
       "    }\n",
       "\n",
       "    .dataframe tbody tr th {\n",
       "        vertical-align: top;\n",
       "    }\n",
       "\n",
       "    .dataframe thead th {\n",
       "        text-align: right;\n",
       "    }\n",
       "</style>\n",
       "<table border=\"1\" class=\"dataframe\">\n",
       "  <thead>\n",
       "    <tr style=\"text-align: right;\">\n",
       "      <th></th>\n",
       "      <th>price</th>\n",
       "      <th>bed</th>\n",
       "      <th>bath</th>\n",
       "      <th>city</th>\n",
       "      <th>state</th>\n",
       "      <th>house_size</th>\n",
       "      <th>location</th>\n",
       "      <th>price_per_sqft</th>\n",
       "    </tr>\n",
       "  </thead>\n",
       "  <tbody>\n",
       "    <tr>\n",
       "      <th>153</th>\n",
       "      <td>229000.0</td>\n",
       "      <td>3.0</td>\n",
       "      <td>1.0</td>\n",
       "      <td>Abington</td>\n",
       "      <td>Pennsylvania</td>\n",
       "      <td>840.0</td>\n",
       "      <td>Abington Pennsylvania</td>\n",
       "      <td>272.619048</td>\n",
       "    </tr>\n",
       "    <tr>\n",
       "      <th>158</th>\n",
       "      <td>350000.0</td>\n",
       "      <td>4.0</td>\n",
       "      <td>2.0</td>\n",
       "      <td>Abington</td>\n",
       "      <td>Pennsylvania</td>\n",
       "      <td>1169.0</td>\n",
       "      <td>Abington Pennsylvania</td>\n",
       "      <td>299.401198</td>\n",
       "    </tr>\n",
       "    <tr>\n",
       "      <th>351</th>\n",
       "      <td>150000.0</td>\n",
       "      <td>2.0</td>\n",
       "      <td>1.0</td>\n",
       "      <td>Acton</td>\n",
       "      <td>Maine</td>\n",
       "      <td>485.0</td>\n",
       "      <td>Acton Maine</td>\n",
       "      <td>309.278351</td>\n",
       "    </tr>\n",
       "    <tr>\n",
       "      <th>352</th>\n",
       "      <td>150000.0</td>\n",
       "      <td>2.0</td>\n",
       "      <td>1.0</td>\n",
       "      <td>Acton</td>\n",
       "      <td>Maine</td>\n",
       "      <td>485.0</td>\n",
       "      <td>Acton Maine</td>\n",
       "      <td>309.278351</td>\n",
       "    </tr>\n",
       "    <tr>\n",
       "      <th>355</th>\n",
       "      <td>150000.0</td>\n",
       "      <td>2.0</td>\n",
       "      <td>1.0</td>\n",
       "      <td>Acton</td>\n",
       "      <td>Maine</td>\n",
       "      <td>485.0</td>\n",
       "      <td>Acton Maine</td>\n",
       "      <td>309.278351</td>\n",
       "    </tr>\n",
       "  </tbody>\n",
       "</table>\n",
       "</div>"
      ],
      "text/plain": [
       "        price  bed  bath      city         state  house_size  \\\n",
       "153  229000.0  3.0   1.0  Abington  Pennsylvania       840.0   \n",
       "158  350000.0  4.0   2.0  Abington  Pennsylvania      1169.0   \n",
       "351  150000.0  2.0   1.0     Acton         Maine       485.0   \n",
       "352  150000.0  2.0   1.0     Acton         Maine       485.0   \n",
       "355  150000.0  2.0   1.0     Acton         Maine       485.0   \n",
       "\n",
       "                  location  price_per_sqft  \n",
       "153  Abington Pennsylvania      272.619048  \n",
       "158  Abington Pennsylvania      299.401198  \n",
       "351            Acton Maine      309.278351  \n",
       "352            Acton Maine      309.278351  \n",
       "355            Acton Maine      309.278351  "
      ]
     },
     "execution_count": 26,
     "metadata": {},
     "output_type": "execute_result"
    }
   ],
   "source": [
    "df5[df5.house_size / df5.bed < 300].head()"
   ]
  },
  {
   "cell_type": "code",
   "execution_count": 27,
   "id": "42c1deec",
   "metadata": {},
   "outputs": [
    {
     "data": {
      "text/plain": [
       "(435428, 8)"
      ]
     },
     "execution_count": 27,
     "metadata": {},
     "output_type": "execute_result"
    }
   ],
   "source": [
    "# Bedroom size outlier remover\n",
    "df6 = df5[~(df5.house_size / df5.bed < 300)]\n",
    "df6.shape"
   ]
  },
  {
   "cell_type": "code",
   "execution_count": 28,
   "id": "69097b0d",
   "metadata": {},
   "outputs": [
    {
     "data": {
      "text/html": [
       "<div>\n",
       "<style scoped>\n",
       "    .dataframe tbody tr th:only-of-type {\n",
       "        vertical-align: middle;\n",
       "    }\n",
       "\n",
       "    .dataframe tbody tr th {\n",
       "        vertical-align: top;\n",
       "    }\n",
       "\n",
       "    .dataframe thead th {\n",
       "        text-align: right;\n",
       "    }\n",
       "</style>\n",
       "<table border=\"1\" class=\"dataframe\">\n",
       "  <thead>\n",
       "    <tr style=\"text-align: right;\">\n",
       "      <th></th>\n",
       "      <th>price</th>\n",
       "      <th>bed</th>\n",
       "      <th>bath</th>\n",
       "      <th>city</th>\n",
       "      <th>state</th>\n",
       "      <th>house_size</th>\n",
       "      <th>location</th>\n",
       "      <th>price_per_sqft</th>\n",
       "    </tr>\n",
       "  </thead>\n",
       "  <tbody>\n",
       "    <tr>\n",
       "      <th>0</th>\n",
       "      <td>550000.0</td>\n",
       "      <td>3.0</td>\n",
       "      <td>2.0</td>\n",
       "      <td>Aberdeen</td>\n",
       "      <td>New Jersey</td>\n",
       "      <td>1998.0</td>\n",
       "      <td>Aberdeen New Jersey</td>\n",
       "      <td>275.275275</td>\n",
       "    </tr>\n",
       "    <tr>\n",
       "      <th>1</th>\n",
       "      <td>385000.0</td>\n",
       "      <td>2.0</td>\n",
       "      <td>3.0</td>\n",
       "      <td>Aberdeen</td>\n",
       "      <td>New Jersey</td>\n",
       "      <td>1284.0</td>\n",
       "      <td>Aberdeen New Jersey</td>\n",
       "      <td>299.844237</td>\n",
       "    </tr>\n",
       "    <tr>\n",
       "      <th>2</th>\n",
       "      <td>564900.0</td>\n",
       "      <td>4.0</td>\n",
       "      <td>3.0</td>\n",
       "      <td>Aberdeen</td>\n",
       "      <td>New Jersey</td>\n",
       "      <td>1860.0</td>\n",
       "      <td>Aberdeen New Jersey</td>\n",
       "      <td>303.709677</td>\n",
       "    </tr>\n",
       "    <tr>\n",
       "      <th>3</th>\n",
       "      <td>550000.0</td>\n",
       "      <td>3.0</td>\n",
       "      <td>3.0</td>\n",
       "      <td>Aberdeen</td>\n",
       "      <td>New Jersey</td>\n",
       "      <td>1883.0</td>\n",
       "      <td>Aberdeen New Jersey</td>\n",
       "      <td>292.087095</td>\n",
       "    </tr>\n",
       "    <tr>\n",
       "      <th>4</th>\n",
       "      <td>334900.0</td>\n",
       "      <td>3.0</td>\n",
       "      <td>3.0</td>\n",
       "      <td>Aberdeen</td>\n",
       "      <td>New Jersey</td>\n",
       "      <td>1254.0</td>\n",
       "      <td>Aberdeen New Jersey</td>\n",
       "      <td>267.065391</td>\n",
       "    </tr>\n",
       "  </tbody>\n",
       "</table>\n",
       "</div>"
      ],
      "text/plain": [
       "      price  bed  bath      city       state  house_size             location  \\\n",
       "0  550000.0  3.0   2.0  Aberdeen  New Jersey      1998.0  Aberdeen New Jersey   \n",
       "1  385000.0  2.0   3.0  Aberdeen  New Jersey      1284.0  Aberdeen New Jersey   \n",
       "2  564900.0  4.0   3.0  Aberdeen  New Jersey      1860.0  Aberdeen New Jersey   \n",
       "3  550000.0  3.0   3.0  Aberdeen  New Jersey      1883.0  Aberdeen New Jersey   \n",
       "4  334900.0  3.0   3.0  Aberdeen  New Jersey      1254.0  Aberdeen New Jersey   \n",
       "\n",
       "   price_per_sqft  \n",
       "0      275.275275  \n",
       "1      299.844237  \n",
       "2      303.709677  \n",
       "3      292.087095  \n",
       "4      267.065391  "
      ]
     },
     "execution_count": 28,
     "metadata": {},
     "output_type": "execute_result"
    }
   ],
   "source": [
    "df7 = df6.copy()\n",
    "df7.head()"
   ]
  },
  {
   "cell_type": "code",
   "execution_count": 29,
   "id": "b9b9ce41",
   "metadata": {},
   "outputs": [
    {
     "data": {
      "text/plain": [
       "6865"
      ]
     },
     "execution_count": 29,
     "metadata": {},
     "output_type": "execute_result"
    }
   ],
   "source": [
    "len(df7[df7.bath > df7.bed + 1])"
   ]
  },
  {
   "cell_type": "code",
   "execution_count": 30,
   "id": "583b7393",
   "metadata": {},
   "outputs": [],
   "source": [
    "df8 = df7[~(df7.bath > df7.bed + 1)]\n",
    "# df8.shape"
   ]
  },
  {
   "cell_type": "code",
   "execution_count": 31,
   "id": "668342d2",
   "metadata": {},
   "outputs": [
    {
     "data": {
      "text/html": [
       "<div>\n",
       "<style scoped>\n",
       "    .dataframe tbody tr th:only-of-type {\n",
       "        vertical-align: middle;\n",
       "    }\n",
       "\n",
       "    .dataframe tbody tr th {\n",
       "        vertical-align: top;\n",
       "    }\n",
       "\n",
       "    .dataframe thead th {\n",
       "        text-align: right;\n",
       "    }\n",
       "</style>\n",
       "<table border=\"1\" class=\"dataframe\">\n",
       "  <thead>\n",
       "    <tr style=\"text-align: right;\">\n",
       "      <th></th>\n",
       "      <th>price</th>\n",
       "      <th>bed</th>\n",
       "      <th>bath</th>\n",
       "      <th>city</th>\n",
       "      <th>state</th>\n",
       "      <th>house_size</th>\n",
       "      <th>location</th>\n",
       "      <th>price_per_sqft</th>\n",
       "    </tr>\n",
       "  </thead>\n",
       "  <tbody>\n",
       "    <tr>\n",
       "      <th>0</th>\n",
       "      <td>550000.0</td>\n",
       "      <td>3.0</td>\n",
       "      <td>2.0</td>\n",
       "      <td>Aberdeen</td>\n",
       "      <td>New Jersey</td>\n",
       "      <td>1998.0</td>\n",
       "      <td>Aberdeen New Jersey</td>\n",
       "      <td>275.275275</td>\n",
       "    </tr>\n",
       "    <tr>\n",
       "      <th>1</th>\n",
       "      <td>385000.0</td>\n",
       "      <td>2.0</td>\n",
       "      <td>3.0</td>\n",
       "      <td>Aberdeen</td>\n",
       "      <td>New Jersey</td>\n",
       "      <td>1284.0</td>\n",
       "      <td>Aberdeen New Jersey</td>\n",
       "      <td>299.844237</td>\n",
       "    </tr>\n",
       "    <tr>\n",
       "      <th>2</th>\n",
       "      <td>564900.0</td>\n",
       "      <td>4.0</td>\n",
       "      <td>3.0</td>\n",
       "      <td>Aberdeen</td>\n",
       "      <td>New Jersey</td>\n",
       "      <td>1860.0</td>\n",
       "      <td>Aberdeen New Jersey</td>\n",
       "      <td>303.709677</td>\n",
       "    </tr>\n",
       "    <tr>\n",
       "      <th>3</th>\n",
       "      <td>550000.0</td>\n",
       "      <td>3.0</td>\n",
       "      <td>3.0</td>\n",
       "      <td>Aberdeen</td>\n",
       "      <td>New Jersey</td>\n",
       "      <td>1883.0</td>\n",
       "      <td>Aberdeen New Jersey</td>\n",
       "      <td>292.087095</td>\n",
       "    </tr>\n",
       "    <tr>\n",
       "      <th>4</th>\n",
       "      <td>334900.0</td>\n",
       "      <td>3.0</td>\n",
       "      <td>3.0</td>\n",
       "      <td>Aberdeen</td>\n",
       "      <td>New Jersey</td>\n",
       "      <td>1254.0</td>\n",
       "      <td>Aberdeen New Jersey</td>\n",
       "      <td>267.065391</td>\n",
       "    </tr>\n",
       "  </tbody>\n",
       "</table>\n",
       "</div>"
      ],
      "text/plain": [
       "      price  bed  bath      city       state  house_size             location  \\\n",
       "0  550000.0  3.0   2.0  Aberdeen  New Jersey      1998.0  Aberdeen New Jersey   \n",
       "1  385000.0  2.0   3.0  Aberdeen  New Jersey      1284.0  Aberdeen New Jersey   \n",
       "2  564900.0  4.0   3.0  Aberdeen  New Jersey      1860.0  Aberdeen New Jersey   \n",
       "3  550000.0  3.0   3.0  Aberdeen  New Jersey      1883.0  Aberdeen New Jersey   \n",
       "4  334900.0  3.0   3.0  Aberdeen  New Jersey      1254.0  Aberdeen New Jersey   \n",
       "\n",
       "   price_per_sqft  \n",
       "0      275.275275  \n",
       "1      299.844237  \n",
       "2      303.709677  \n",
       "3      292.087095  \n",
       "4      267.065391  "
      ]
     },
     "execution_count": 31,
     "metadata": {},
     "output_type": "execute_result"
    }
   ],
   "source": [
    "df8.head()"
   ]
  },
  {
   "cell_type": "code",
   "execution_count": 32,
   "id": "2f545348",
   "metadata": {},
   "outputs": [
    {
     "data": {
      "text/plain": [
       "array(['Aberdeen New Jersey', 'Abington Massachusetts',\n",
       "       'Abington Pennsylvania', ..., 'York Maine',\n",
       "       'Yorktown Heights New York', 'other'], dtype=object)"
      ]
     },
     "execution_count": 32,
     "metadata": {},
     "output_type": "execute_result"
    }
   ],
   "source": [
    "df8['location'].unique()"
   ]
  },
  {
   "cell_type": "code",
   "execution_count": 33,
   "id": "83b18c31",
   "metadata": {},
   "outputs": [
    {
     "data": {
      "image/png": "[encoded data removed]",
      "text/plain": [
       "<Figure size 1440x720 with 1 Axes>"
      ]
     },
     "metadata": {
      "needs_background": "light"
     },
     "output_type": "display_data"
    }
   ],
   "source": [
    "# Check Outlier like where 2bed price is higher than 3bed \n",
    "def scatter_plot(df, location):\n",
    "    bed_2 = df[(df.location == location) & (df.bed == 2)]\n",
    "    bed_3 = df[(df.location == location) & (df.bed == 3)]\n",
    "    \n",
    "    matplotlib.rcParams['figure.figsize'] = (20,10)\n",
    "    plt.scatter(bed_2.house_size, bed_2.price, color='blue', label='2 BED', s=50)\n",
    "    plt.scatter(bed_3.house_size, bed_3.price, marker='+', color='green',  label='3 BED', s=50)\n",
    "    plt.xlabel(\"House Size in '(Sqft)'\")\n",
    "    plt.ylabel(\"Price '($)'\")\n",
    "    plt.legend\n",
    "    \n",
    "    \n",
    "scatter_plot(df8, 'York Maine')"
   ]
  },
  {
   "cell_type": "code",
   "execution_count": 34,
   "id": "54561f09",
   "metadata": {},
   "outputs": [
    {
     "data": {
      "text/plain": [
       "(259390, 8)"
      ]
     },
     "execution_count": 34,
     "metadata": {},
     "output_type": "execute_result"
    }
   ],
   "source": [
    "# Remove Outlier like where 2bed price is higher than 3bed \n",
    "\n",
    "def remove_bed_outlier(df):\n",
    "    exclude_indices = np.array([])\n",
    "    for location, location_df in df.groupby('location'):\n",
    "        bed_stats = {}\n",
    "        for bed, bed_df in location_df.groupby('bed'):\n",
    "            bed_stats[bed] = {\n",
    "                'mean'  : np.mean(bed_df.price_per_sqft),\n",
    "                'std'   : np.std(bed_df.price_per_sqft),\n",
    "                'count' : bed_df.shape[0]\n",
    "            }\n",
    "            \n",
    "        for bed, bed_df in location_df.groupby('bed'):\n",
    "            stats = bed_stats.get(bed -1)\n",
    "            if stats and stats['count'] > 5:\n",
    "                exclude_indices = np.append(exclude_indices, bed_df[bed_df.price_per_sqft < (stats['mean'])].index.values)\n",
    "\n",
    "    return df.drop(exclude_indices, axis='index')\n",
    "\n",
    "df9 = remove_bed_outlier(df8)\n",
    "df9.shape\n"
   ]
  },
  {
   "cell_type": "code",
   "execution_count": 35,
   "id": "85c17931",
   "metadata": {},
   "outputs": [
    {
     "data": {
      "image/png": "[encoded data removed]",
      "text/plain": [
       "<Figure size 1440x720 with 1 Axes>"
      ]
     },
     "metadata": {
      "needs_background": "light"
     },
     "output_type": "display_data"
    }
   ],
   "source": [
    "# Again verify/Check Outlier like where 2bed price is higher than 3bed \n",
    "def scatter_plot(df, location):\n",
    "    bed_2 = df[(df.location == location) & (df.bed == 2)]\n",
    "    bed_3 = df[(df.location == location) & (df.bed == 3)]\n",
    "    \n",
    "    matplotlib.rcParams['figure.figsize'] = (20, 10)\n",
    "    plt.scatter(bed_2.house_size, bed_2.price, color='blue', label='2 BED', s=50)\n",
    "    plt.scatter(bed_3.house_size, bed_3.price, marker='+', color='green', label='3 BED', s=50)\n",
    "    plt.xlabel(\"House Size '(Sqft)'\")\n",
    "    plt.ylabel(\"Price '($)'\")\n",
    "    plt.legend\n",
    "\n",
    "scatter_plot(df9, 'York Maine')  "
   ]
  },
  {
   "cell_type": "code",
   "execution_count": 36,
   "id": "f7817204",
   "metadata": {},
   "outputs": [
    {
     "data": {
      "text/plain": [
       "Text(0, 0.5, 'Count')"
      ]
     },
     "execution_count": 36,
     "metadata": {},
     "output_type": "execute_result"
    },
    {
     "data": {
      "image/png": "[encoded data removed]",
      "text/plain": [
       "<Figure size 720x360 with 1 Axes>"
      ]
     },
     "metadata": {
      "needs_background": "light"
     },
     "output_type": "display_data"
    }
   ],
   "source": [
    "matplotlib.rcParams['figure.figsize'] = (10, 5)\n",
    "plt.hist(df9.price_per_sqft, rwidth=0.8)\n",
    "plt.xlabel('Price per sqft')\n",
    "plt.ylabel('Count')\n"
   ]
  },
  {
   "cell_type": "code",
   "execution_count": 37,
   "id": "93e5e6b1",
   "metadata": {},
   "outputs": [
    {
     "data": {
      "text/plain": [
       "(259390, 8)"
      ]
     },
     "execution_count": 37,
     "metadata": {},
     "output_type": "execute_result"
    }
   ],
   "source": [
    "df10 = df9.copy()\n",
    "df10.shape"
   ]
  },
  {
   "cell_type": "code",
   "execution_count": 38,
   "id": "929429d2",
   "metadata": {},
   "outputs": [
    {
     "data": {
      "text/html": [
       "<div>\n",
       "<style scoped>\n",
       "    .dataframe tbody tr th:only-of-type {\n",
       "        vertical-align: middle;\n",
       "    }\n",
       "\n",
       "    .dataframe tbody tr th {\n",
       "        vertical-align: top;\n",
       "    }\n",
       "\n",
       "    .dataframe thead th {\n",
       "        text-align: right;\n",
       "    }\n",
       "</style>\n",
       "<table border=\"1\" class=\"dataframe\">\n",
       "  <thead>\n",
       "    <tr style=\"text-align: right;\">\n",
       "      <th></th>\n",
       "      <th>Aberdeen New Jersey</th>\n",
       "      <th>Abington Massachusetts</th>\n",
       "      <th>Abington Pennsylvania</th>\n",
       "      <th>Absecon New Jersey</th>\n",
       "      <th>Acton Maine</th>\n",
       "      <th>Acton Massachusetts</th>\n",
       "      <th>Acushnet Massachusetts</th>\n",
       "      <th>Acworth New Hampshire</th>\n",
       "      <th>Adams Massachusetts</th>\n",
       "      <th>Addisleigh Park New York</th>\n",
       "      <th>...</th>\n",
       "      <th>Yardley Pennsylvania</th>\n",
       "      <th>Yarmouth Maine</th>\n",
       "      <th>Yarmouth Massachusetts</th>\n",
       "      <th>Yarmouth Port Massachusetts</th>\n",
       "      <th>Yauco Puerto Rico</th>\n",
       "      <th>Yeadon Pennsylvania</th>\n",
       "      <th>Yonkers New York</th>\n",
       "      <th>York Maine</th>\n",
       "      <th>Yorktown Heights New York</th>\n",
       "      <th>other</th>\n",
       "    </tr>\n",
       "  </thead>\n",
       "  <tbody>\n",
       "    <tr>\n",
       "      <th>1</th>\n",
       "      <td>1</td>\n",
       "      <td>0</td>\n",
       "      <td>0</td>\n",
       "      <td>0</td>\n",
       "      <td>0</td>\n",
       "      <td>0</td>\n",
       "      <td>0</td>\n",
       "      <td>0</td>\n",
       "      <td>0</td>\n",
       "      <td>0</td>\n",
       "      <td>...</td>\n",
       "      <td>0</td>\n",
       "      <td>0</td>\n",
       "      <td>0</td>\n",
       "      <td>0</td>\n",
       "      <td>0</td>\n",
       "      <td>0</td>\n",
       "      <td>0</td>\n",
       "      <td>0</td>\n",
       "      <td>0</td>\n",
       "      <td>0</td>\n",
       "    </tr>\n",
       "    <tr>\n",
       "      <th>2</th>\n",
       "      <td>1</td>\n",
       "      <td>0</td>\n",
       "      <td>0</td>\n",
       "      <td>0</td>\n",
       "      <td>0</td>\n",
       "      <td>0</td>\n",
       "      <td>0</td>\n",
       "      <td>0</td>\n",
       "      <td>0</td>\n",
       "      <td>0</td>\n",
       "      <td>...</td>\n",
       "      <td>0</td>\n",
       "      <td>0</td>\n",
       "      <td>0</td>\n",
       "      <td>0</td>\n",
       "      <td>0</td>\n",
       "      <td>0</td>\n",
       "      <td>0</td>\n",
       "      <td>0</td>\n",
       "      <td>0</td>\n",
       "      <td>0</td>\n",
       "    </tr>\n",
       "    <tr>\n",
       "      <th>3</th>\n",
       "      <td>1</td>\n",
       "      <td>0</td>\n",
       "      <td>0</td>\n",
       "      <td>0</td>\n",
       "      <td>0</td>\n",
       "      <td>0</td>\n",
       "      <td>0</td>\n",
       "      <td>0</td>\n",
       "      <td>0</td>\n",
       "      <td>0</td>\n",
       "      <td>...</td>\n",
       "      <td>0</td>\n",
       "      <td>0</td>\n",
       "      <td>0</td>\n",
       "      <td>0</td>\n",
       "      <td>0</td>\n",
       "      <td>0</td>\n",
       "      <td>0</td>\n",
       "      <td>0</td>\n",
       "      <td>0</td>\n",
       "      <td>0</td>\n",
       "    </tr>\n",
       "    <tr>\n",
       "      <th>6</th>\n",
       "      <td>1</td>\n",
       "      <td>0</td>\n",
       "      <td>0</td>\n",
       "      <td>0</td>\n",
       "      <td>0</td>\n",
       "      <td>0</td>\n",
       "      <td>0</td>\n",
       "      <td>0</td>\n",
       "      <td>0</td>\n",
       "      <td>0</td>\n",
       "      <td>...</td>\n",
       "      <td>0</td>\n",
       "      <td>0</td>\n",
       "      <td>0</td>\n",
       "      <td>0</td>\n",
       "      <td>0</td>\n",
       "      <td>0</td>\n",
       "      <td>0</td>\n",
       "      <td>0</td>\n",
       "      <td>0</td>\n",
       "      <td>0</td>\n",
       "    </tr>\n",
       "    <tr>\n",
       "      <th>7</th>\n",
       "      <td>1</td>\n",
       "      <td>0</td>\n",
       "      <td>0</td>\n",
       "      <td>0</td>\n",
       "      <td>0</td>\n",
       "      <td>0</td>\n",
       "      <td>0</td>\n",
       "      <td>0</td>\n",
       "      <td>0</td>\n",
       "      <td>0</td>\n",
       "      <td>...</td>\n",
       "      <td>0</td>\n",
       "      <td>0</td>\n",
       "      <td>0</td>\n",
       "      <td>0</td>\n",
       "      <td>0</td>\n",
       "      <td>0</td>\n",
       "      <td>0</td>\n",
       "      <td>0</td>\n",
       "      <td>0</td>\n",
       "      <td>0</td>\n",
       "    </tr>\n",
       "  </tbody>\n",
       "</table>\n",
       "<p>5 rows × 2268 columns</p>\n",
       "</div>"
      ],
      "text/plain": [
       "   Aberdeen New Jersey  Abington Massachusetts  Abington Pennsylvania  \\\n",
       "1                    1                       0                      0   \n",
       "2                    1                       0                      0   \n",
       "3                    1                       0                      0   \n",
       "6                    1                       0                      0   \n",
       "7                    1                       0                      0   \n",
       "\n",
       "   Absecon New Jersey  Acton Maine  Acton Massachusetts  \\\n",
       "1                   0            0                    0   \n",
       "2                   0            0                    0   \n",
       "3                   0            0                    0   \n",
       "6                   0            0                    0   \n",
       "7                   0            0                    0   \n",
       "\n",
       "   Acushnet Massachusetts  Acworth New Hampshire  Adams Massachusetts  \\\n",
       "1                       0                      0                    0   \n",
       "2                       0                      0                    0   \n",
       "3                       0                      0                    0   \n",
       "6                       0                      0                    0   \n",
       "7                       0                      0                    0   \n",
       "\n",
       "   Addisleigh Park New York  ...  Yardley Pennsylvania  Yarmouth Maine  \\\n",
       "1                         0  ...                     0               0   \n",
       "2                         0  ...                     0               0   \n",
       "3                         0  ...                     0               0   \n",
       "6                         0  ...                     0               0   \n",
       "7                         0  ...                     0               0   \n",
       "\n",
       "   Yarmouth Massachusetts  Yarmouth Port Massachusetts  Yauco Puerto Rico  \\\n",
       "1                       0                            0                  0   \n",
       "2                       0                            0                  0   \n",
       "3                       0                            0                  0   \n",
       "6                       0                            0                  0   \n",
       "7                       0                            0                  0   \n",
       "\n",
       "   Yeadon Pennsylvania  Yonkers New York  York Maine  \\\n",
       "1                    0                 0           0   \n",
       "2                    0                 0           0   \n",
       "3                    0                 0           0   \n",
       "6                    0                 0           0   \n",
       "7                    0                 0           0   \n",
       "\n",
       "   Yorktown Heights New York  other  \n",
       "1                          0      0  \n",
       "2                          0      0  \n",
       "3                          0      0  \n",
       "6                          0      0  \n",
       "7                          0      0  \n",
       "\n",
       "[5 rows x 2268 columns]"
      ]
     },
     "execution_count": 38,
     "metadata": {},
     "output_type": "execute_result"
    }
   ],
   "source": [
    "# String to OneHotEncoding bcz string cannt be use by model:- so convert to nmber\n",
    "dummies = pd.get_dummies(df10.location)\n",
    "dummies.head()"
   ]
  },
  {
   "cell_type": "code",
   "execution_count": 39,
   "id": "7d73ddab",
   "metadata": {},
   "outputs": [
    {
     "data": {
      "text/html": [
       "<div>\n",
       "<style scoped>\n",
       "    .dataframe tbody tr th:only-of-type {\n",
       "        vertical-align: middle;\n",
       "    }\n",
       "\n",
       "    .dataframe tbody tr th {\n",
       "        vertical-align: top;\n",
       "    }\n",
       "\n",
       "    .dataframe thead th {\n",
       "        text-align: right;\n",
       "    }\n",
       "</style>\n",
       "<table border=\"1\" class=\"dataframe\">\n",
       "  <thead>\n",
       "    <tr style=\"text-align: right;\">\n",
       "      <th></th>\n",
       "      <th>price</th>\n",
       "      <th>bed</th>\n",
       "      <th>bath</th>\n",
       "      <th>city</th>\n",
       "      <th>state</th>\n",
       "      <th>house_size</th>\n",
       "      <th>location</th>\n",
       "      <th>price_per_sqft</th>\n",
       "      <th>Aberdeen New Jersey</th>\n",
       "      <th>Abington Massachusetts</th>\n",
       "      <th>...</th>\n",
       "      <th>Yabucoa Puerto Rico</th>\n",
       "      <th>Yardley Pennsylvania</th>\n",
       "      <th>Yarmouth Maine</th>\n",
       "      <th>Yarmouth Massachusetts</th>\n",
       "      <th>Yarmouth Port Massachusetts</th>\n",
       "      <th>Yauco Puerto Rico</th>\n",
       "      <th>Yeadon Pennsylvania</th>\n",
       "      <th>Yonkers New York</th>\n",
       "      <th>York Maine</th>\n",
       "      <th>Yorktown Heights New York</th>\n",
       "    </tr>\n",
       "  </thead>\n",
       "  <tbody>\n",
       "    <tr>\n",
       "      <th>1</th>\n",
       "      <td>385000.0</td>\n",
       "      <td>2.0</td>\n",
       "      <td>3.0</td>\n",
       "      <td>Aberdeen</td>\n",
       "      <td>New Jersey</td>\n",
       "      <td>1284.0</td>\n",
       "      <td>Aberdeen New Jersey</td>\n",
       "      <td>299.844237</td>\n",
       "      <td>1</td>\n",
       "      <td>0</td>\n",
       "      <td>...</td>\n",
       "      <td>0</td>\n",
       "      <td>0</td>\n",
       "      <td>0</td>\n",
       "      <td>0</td>\n",
       "      <td>0</td>\n",
       "      <td>0</td>\n",
       "      <td>0</td>\n",
       "      <td>0</td>\n",
       "      <td>0</td>\n",
       "      <td>0</td>\n",
       "    </tr>\n",
       "    <tr>\n",
       "      <th>2</th>\n",
       "      <td>564900.0</td>\n",
       "      <td>4.0</td>\n",
       "      <td>3.0</td>\n",
       "      <td>Aberdeen</td>\n",
       "      <td>New Jersey</td>\n",
       "      <td>1860.0</td>\n",
       "      <td>Aberdeen New Jersey</td>\n",
       "      <td>303.709677</td>\n",
       "      <td>1</td>\n",
       "      <td>0</td>\n",
       "      <td>...</td>\n",
       "      <td>0</td>\n",
       "      <td>0</td>\n",
       "      <td>0</td>\n",
       "      <td>0</td>\n",
       "      <td>0</td>\n",
       "      <td>0</td>\n",
       "      <td>0</td>\n",
       "      <td>0</td>\n",
       "      <td>0</td>\n",
       "      <td>0</td>\n",
       "    </tr>\n",
       "    <tr>\n",
       "      <th>3</th>\n",
       "      <td>550000.0</td>\n",
       "      <td>3.0</td>\n",
       "      <td>3.0</td>\n",
       "      <td>Aberdeen</td>\n",
       "      <td>New Jersey</td>\n",
       "      <td>1883.0</td>\n",
       "      <td>Aberdeen New Jersey</td>\n",
       "      <td>292.087095</td>\n",
       "      <td>1</td>\n",
       "      <td>0</td>\n",
       "      <td>...</td>\n",
       "      <td>0</td>\n",
       "      <td>0</td>\n",
       "      <td>0</td>\n",
       "      <td>0</td>\n",
       "      <td>0</td>\n",
       "      <td>0</td>\n",
       "      <td>0</td>\n",
       "      <td>0</td>\n",
       "      <td>0</td>\n",
       "      <td>0</td>\n",
       "    </tr>\n",
       "    <tr>\n",
       "      <th>6</th>\n",
       "      <td>300000.0</td>\n",
       "      <td>2.0</td>\n",
       "      <td>2.0</td>\n",
       "      <td>Aberdeen</td>\n",
       "      <td>New Jersey</td>\n",
       "      <td>1152.0</td>\n",
       "      <td>Aberdeen New Jersey</td>\n",
       "      <td>260.416667</td>\n",
       "      <td>1</td>\n",
       "      <td>0</td>\n",
       "      <td>...</td>\n",
       "      <td>0</td>\n",
       "      <td>0</td>\n",
       "      <td>0</td>\n",
       "      <td>0</td>\n",
       "      <td>0</td>\n",
       "      <td>0</td>\n",
       "      <td>0</td>\n",
       "      <td>0</td>\n",
       "      <td>0</td>\n",
       "      <td>0</td>\n",
       "    </tr>\n",
       "    <tr>\n",
       "      <th>7</th>\n",
       "      <td>300000.0</td>\n",
       "      <td>2.0</td>\n",
       "      <td>2.0</td>\n",
       "      <td>Aberdeen</td>\n",
       "      <td>New Jersey</td>\n",
       "      <td>1152.0</td>\n",
       "      <td>Aberdeen New Jersey</td>\n",
       "      <td>260.416667</td>\n",
       "      <td>1</td>\n",
       "      <td>0</td>\n",
       "      <td>...</td>\n",
       "      <td>0</td>\n",
       "      <td>0</td>\n",
       "      <td>0</td>\n",
       "      <td>0</td>\n",
       "      <td>0</td>\n",
       "      <td>0</td>\n",
       "      <td>0</td>\n",
       "      <td>0</td>\n",
       "      <td>0</td>\n",
       "      <td>0</td>\n",
       "    </tr>\n",
       "  </tbody>\n",
       "</table>\n",
       "<p>5 rows × 2275 columns</p>\n",
       "</div>"
      ],
      "text/plain": [
       "      price  bed  bath      city       state  house_size             location  \\\n",
       "1  385000.0  2.0   3.0  Aberdeen  New Jersey      1284.0  Aberdeen New Jersey   \n",
       "2  564900.0  4.0   3.0  Aberdeen  New Jersey      1860.0  Aberdeen New Jersey   \n",
       "3  550000.0  3.0   3.0  Aberdeen  New Jersey      1883.0  Aberdeen New Jersey   \n",
       "6  300000.0  2.0   2.0  Aberdeen  New Jersey      1152.0  Aberdeen New Jersey   \n",
       "7  300000.0  2.0   2.0  Aberdeen  New Jersey      1152.0  Aberdeen New Jersey   \n",
       "\n",
       "   price_per_sqft  Aberdeen New Jersey  Abington Massachusetts  ...  \\\n",
       "1      299.844237                    1                       0  ...   \n",
       "2      303.709677                    1                       0  ...   \n",
       "3      292.087095                    1                       0  ...   \n",
       "6      260.416667                    1                       0  ...   \n",
       "7      260.416667                    1                       0  ...   \n",
       "\n",
       "   Yabucoa Puerto Rico  Yardley Pennsylvania  Yarmouth Maine  \\\n",
       "1                    0                     0               0   \n",
       "2                    0                     0               0   \n",
       "3                    0                     0               0   \n",
       "6                    0                     0               0   \n",
       "7                    0                     0               0   \n",
       "\n",
       "   Yarmouth Massachusetts  Yarmouth Port Massachusetts  Yauco Puerto Rico  \\\n",
       "1                       0                            0                  0   \n",
       "2                       0                            0                  0   \n",
       "3                       0                            0                  0   \n",
       "6                       0                            0                  0   \n",
       "7                       0                            0                  0   \n",
       "\n",
       "   Yeadon Pennsylvania  Yonkers New York  York Maine  \\\n",
       "1                    0                 0           0   \n",
       "2                    0                 0           0   \n",
       "3                    0                 0           0   \n",
       "6                    0                 0           0   \n",
       "7                    0                 0           0   \n",
       "\n",
       "   Yorktown Heights New York  \n",
       "1                          0  \n",
       "2                          0  \n",
       "3                          0  \n",
       "6                          0  \n",
       "7                          0  \n",
       "\n",
       "[5 rows x 2275 columns]"
      ]
     },
     "execution_count": 39,
     "metadata": {},
     "output_type": "execute_result"
    }
   ],
   "source": [
    "df11 = pd.concat([df10, dummies.drop('other', axis='columns')], axis='columns')\n",
    "df11.head()"
   ]
  },
  {
   "cell_type": "code",
   "execution_count": 40,
   "id": "cd577bd0",
   "metadata": {},
   "outputs": [
    {
     "data": {
      "text/html": [
       "<div>\n",
       "<style scoped>\n",
       "    .dataframe tbody tr th:only-of-type {\n",
       "        vertical-align: middle;\n",
       "    }\n",
       "\n",
       "    .dataframe tbody tr th {\n",
       "        vertical-align: top;\n",
       "    }\n",
       "\n",
       "    .dataframe thead th {\n",
       "        text-align: right;\n",
       "    }\n",
       "</style>\n",
       "<table border=\"1\" class=\"dataframe\">\n",
       "  <thead>\n",
       "    <tr style=\"text-align: right;\">\n",
       "      <th></th>\n",
       "      <th>price</th>\n",
       "      <th>bed</th>\n",
       "      <th>bath</th>\n",
       "      <th>house_size</th>\n",
       "      <th>Aberdeen New Jersey</th>\n",
       "      <th>Abington Massachusetts</th>\n",
       "      <th>Abington Pennsylvania</th>\n",
       "      <th>Absecon New Jersey</th>\n",
       "      <th>Acton Maine</th>\n",
       "      <th>Acton Massachusetts</th>\n",
       "      <th>...</th>\n",
       "      <th>Yabucoa Puerto Rico</th>\n",
       "      <th>Yardley Pennsylvania</th>\n",
       "      <th>Yarmouth Maine</th>\n",
       "      <th>Yarmouth Massachusetts</th>\n",
       "      <th>Yarmouth Port Massachusetts</th>\n",
       "      <th>Yauco Puerto Rico</th>\n",
       "      <th>Yeadon Pennsylvania</th>\n",
       "      <th>Yonkers New York</th>\n",
       "      <th>York Maine</th>\n",
       "      <th>Yorktown Heights New York</th>\n",
       "    </tr>\n",
       "  </thead>\n",
       "  <tbody>\n",
       "    <tr>\n",
       "      <th>1</th>\n",
       "      <td>385000.0</td>\n",
       "      <td>2.0</td>\n",
       "      <td>3.0</td>\n",
       "      <td>1284.0</td>\n",
       "      <td>1</td>\n",
       "      <td>0</td>\n",
       "      <td>0</td>\n",
       "      <td>0</td>\n",
       "      <td>0</td>\n",
       "      <td>0</td>\n",
       "      <td>...</td>\n",
       "      <td>0</td>\n",
       "      <td>0</td>\n",
       "      <td>0</td>\n",
       "      <td>0</td>\n",
       "      <td>0</td>\n",
       "      <td>0</td>\n",
       "      <td>0</td>\n",
       "      <td>0</td>\n",
       "      <td>0</td>\n",
       "      <td>0</td>\n",
       "    </tr>\n",
       "    <tr>\n",
       "      <th>2</th>\n",
       "      <td>564900.0</td>\n",
       "      <td>4.0</td>\n",
       "      <td>3.0</td>\n",
       "      <td>1860.0</td>\n",
       "      <td>1</td>\n",
       "      <td>0</td>\n",
       "      <td>0</td>\n",
       "      <td>0</td>\n",
       "      <td>0</td>\n",
       "      <td>0</td>\n",
       "      <td>...</td>\n",
       "      <td>0</td>\n",
       "      <td>0</td>\n",
       "      <td>0</td>\n",
       "      <td>0</td>\n",
       "      <td>0</td>\n",
       "      <td>0</td>\n",
       "      <td>0</td>\n",
       "      <td>0</td>\n",
       "      <td>0</td>\n",
       "      <td>0</td>\n",
       "    </tr>\n",
       "    <tr>\n",
       "      <th>3</th>\n",
       "      <td>550000.0</td>\n",
       "      <td>3.0</td>\n",
       "      <td>3.0</td>\n",
       "      <td>1883.0</td>\n",
       "      <td>1</td>\n",
       "      <td>0</td>\n",
       "      <td>0</td>\n",
       "      <td>0</td>\n",
       "      <td>0</td>\n",
       "      <td>0</td>\n",
       "      <td>...</td>\n",
       "      <td>0</td>\n",
       "      <td>0</td>\n",
       "      <td>0</td>\n",
       "      <td>0</td>\n",
       "      <td>0</td>\n",
       "      <td>0</td>\n",
       "      <td>0</td>\n",
       "      <td>0</td>\n",
       "      <td>0</td>\n",
       "      <td>0</td>\n",
       "    </tr>\n",
       "    <tr>\n",
       "      <th>6</th>\n",
       "      <td>300000.0</td>\n",
       "      <td>2.0</td>\n",
       "      <td>2.0</td>\n",
       "      <td>1152.0</td>\n",
       "      <td>1</td>\n",
       "      <td>0</td>\n",
       "      <td>0</td>\n",
       "      <td>0</td>\n",
       "      <td>0</td>\n",
       "      <td>0</td>\n",
       "      <td>...</td>\n",
       "      <td>0</td>\n",
       "      <td>0</td>\n",
       "      <td>0</td>\n",
       "      <td>0</td>\n",
       "      <td>0</td>\n",
       "      <td>0</td>\n",
       "      <td>0</td>\n",
       "      <td>0</td>\n",
       "      <td>0</td>\n",
       "      <td>0</td>\n",
       "    </tr>\n",
       "    <tr>\n",
       "      <th>7</th>\n",
       "      <td>300000.0</td>\n",
       "      <td>2.0</td>\n",
       "      <td>2.0</td>\n",
       "      <td>1152.0</td>\n",
       "      <td>1</td>\n",
       "      <td>0</td>\n",
       "      <td>0</td>\n",
       "      <td>0</td>\n",
       "      <td>0</td>\n",
       "      <td>0</td>\n",
       "      <td>...</td>\n",
       "      <td>0</td>\n",
       "      <td>0</td>\n",
       "      <td>0</td>\n",
       "      <td>0</td>\n",
       "      <td>0</td>\n",
       "      <td>0</td>\n",
       "      <td>0</td>\n",
       "      <td>0</td>\n",
       "      <td>0</td>\n",
       "      <td>0</td>\n",
       "    </tr>\n",
       "  </tbody>\n",
       "</table>\n",
       "<p>5 rows × 2271 columns</p>\n",
       "</div>"
      ],
      "text/plain": [
       "      price  bed  bath  house_size  Aberdeen New Jersey  \\\n",
       "1  385000.0  2.0   3.0      1284.0                    1   \n",
       "2  564900.0  4.0   3.0      1860.0                    1   \n",
       "3  550000.0  3.0   3.0      1883.0                    1   \n",
       "6  300000.0  2.0   2.0      1152.0                    1   \n",
       "7  300000.0  2.0   2.0      1152.0                    1   \n",
       "\n",
       "   Abington Massachusetts  Abington Pennsylvania  Absecon New Jersey  \\\n",
       "1                       0                      0                   0   \n",
       "2                       0                      0                   0   \n",
       "3                       0                      0                   0   \n",
       "6                       0                      0                   0   \n",
       "7                       0                      0                   0   \n",
       "\n",
       "   Acton Maine  Acton Massachusetts  ...  Yabucoa Puerto Rico  \\\n",
       "1            0                    0  ...                    0   \n",
       "2            0                    0  ...                    0   \n",
       "3            0                    0  ...                    0   \n",
       "6            0                    0  ...                    0   \n",
       "7            0                    0  ...                    0   \n",
       "\n",
       "   Yardley Pennsylvania  Yarmouth Maine  Yarmouth Massachusetts  \\\n",
       "1                     0               0                       0   \n",
       "2                     0               0                       0   \n",
       "3                     0               0                       0   \n",
       "6                     0               0                       0   \n",
       "7                     0               0                       0   \n",
       "\n",
       "   Yarmouth Port Massachusetts  Yauco Puerto Rico  Yeadon Pennsylvania  \\\n",
       "1                            0                  0                    0   \n",
       "2                            0                  0                    0   \n",
       "3                            0                  0                    0   \n",
       "6                            0                  0                    0   \n",
       "7                            0                  0                    0   \n",
       "\n",
       "   Yonkers New York  York Maine  Yorktown Heights New York  \n",
       "1                 0           0                          0  \n",
       "2                 0           0                          0  \n",
       "3                 0           0                          0  \n",
       "6                 0           0                          0  \n",
       "7                 0           0                          0  \n",
       "\n",
       "[5 rows x 2271 columns]"
      ]
     },
     "execution_count": 40,
     "metadata": {},
     "output_type": "execute_result"
    }
   ],
   "source": [
    "df12 = df11.drop(['city', 'state', 'location', 'price_per_sqft'], axis='columns')\n",
    "df12.head()"
   ]
  },
  {
   "cell_type": "code",
   "execution_count": 41,
   "id": "faf5c0e8",
   "metadata": {},
   "outputs": [
    {
     "data": {
      "text/plain": [
       "(259390, 2271)"
      ]
     },
     "execution_count": 41,
     "metadata": {},
     "output_type": "execute_result"
    }
   ],
   "source": [
    "df12.shape"
   ]
  },
  {
   "cell_type": "code",
   "execution_count": 42,
   "id": "51e30b4a",
   "metadata": {},
   "outputs": [
    {
     "data": {
      "text/html": [
       "<div>\n",
       "<style scoped>\n",
       "    .dataframe tbody tr th:only-of-type {\n",
       "        vertical-align: middle;\n",
       "    }\n",
       "\n",
       "    .dataframe tbody tr th {\n",
       "        vertical-align: top;\n",
       "    }\n",
       "\n",
       "    .dataframe thead th {\n",
       "        text-align: right;\n",
       "    }\n",
       "</style>\n",
       "<table border=\"1\" class=\"dataframe\">\n",
       "  <thead>\n",
       "    <tr style=\"text-align: right;\">\n",
       "      <th></th>\n",
       "      <th>bed</th>\n",
       "      <th>bath</th>\n",
       "      <th>house_size</th>\n",
       "      <th>Aberdeen New Jersey</th>\n",
       "      <th>Abington Massachusetts</th>\n",
       "      <th>Abington Pennsylvania</th>\n",
       "      <th>Absecon New Jersey</th>\n",
       "      <th>Acton Maine</th>\n",
       "      <th>Acton Massachusetts</th>\n",
       "      <th>Acushnet Massachusetts</th>\n",
       "      <th>...</th>\n",
       "      <th>Yabucoa Puerto Rico</th>\n",
       "      <th>Yardley Pennsylvania</th>\n",
       "      <th>Yarmouth Maine</th>\n",
       "      <th>Yarmouth Massachusetts</th>\n",
       "      <th>Yarmouth Port Massachusetts</th>\n",
       "      <th>Yauco Puerto Rico</th>\n",
       "      <th>Yeadon Pennsylvania</th>\n",
       "      <th>Yonkers New York</th>\n",
       "      <th>York Maine</th>\n",
       "      <th>Yorktown Heights New York</th>\n",
       "    </tr>\n",
       "  </thead>\n",
       "  <tbody>\n",
       "    <tr>\n",
       "      <th>1</th>\n",
       "      <td>2.0</td>\n",
       "      <td>3.0</td>\n",
       "      <td>1284.0</td>\n",
       "      <td>1</td>\n",
       "      <td>0</td>\n",
       "      <td>0</td>\n",
       "      <td>0</td>\n",
       "      <td>0</td>\n",
       "      <td>0</td>\n",
       "      <td>0</td>\n",
       "      <td>...</td>\n",
       "      <td>0</td>\n",
       "      <td>0</td>\n",
       "      <td>0</td>\n",
       "      <td>0</td>\n",
       "      <td>0</td>\n",
       "      <td>0</td>\n",
       "      <td>0</td>\n",
       "      <td>0</td>\n",
       "      <td>0</td>\n",
       "      <td>0</td>\n",
       "    </tr>\n",
       "    <tr>\n",
       "      <th>2</th>\n",
       "      <td>4.0</td>\n",
       "      <td>3.0</td>\n",
       "      <td>1860.0</td>\n",
       "      <td>1</td>\n",
       "      <td>0</td>\n",
       "      <td>0</td>\n",
       "      <td>0</td>\n",
       "      <td>0</td>\n",
       "      <td>0</td>\n",
       "      <td>0</td>\n",
       "      <td>...</td>\n",
       "      <td>0</td>\n",
       "      <td>0</td>\n",
       "      <td>0</td>\n",
       "      <td>0</td>\n",
       "      <td>0</td>\n",
       "      <td>0</td>\n",
       "      <td>0</td>\n",
       "      <td>0</td>\n",
       "      <td>0</td>\n",
       "      <td>0</td>\n",
       "    </tr>\n",
       "    <tr>\n",
       "      <th>3</th>\n",
       "      <td>3.0</td>\n",
       "      <td>3.0</td>\n",
       "      <td>1883.0</td>\n",
       "      <td>1</td>\n",
       "      <td>0</td>\n",
       "      <td>0</td>\n",
       "      <td>0</td>\n",
       "      <td>0</td>\n",
       "      <td>0</td>\n",
       "      <td>0</td>\n",
       "      <td>...</td>\n",
       "      <td>0</td>\n",
       "      <td>0</td>\n",
       "      <td>0</td>\n",
       "      <td>0</td>\n",
       "      <td>0</td>\n",
       "      <td>0</td>\n",
       "      <td>0</td>\n",
       "      <td>0</td>\n",
       "      <td>0</td>\n",
       "      <td>0</td>\n",
       "    </tr>\n",
       "    <tr>\n",
       "      <th>6</th>\n",
       "      <td>2.0</td>\n",
       "      <td>2.0</td>\n",
       "      <td>1152.0</td>\n",
       "      <td>1</td>\n",
       "      <td>0</td>\n",
       "      <td>0</td>\n",
       "      <td>0</td>\n",
       "      <td>0</td>\n",
       "      <td>0</td>\n",
       "      <td>0</td>\n",
       "      <td>...</td>\n",
       "      <td>0</td>\n",
       "      <td>0</td>\n",
       "      <td>0</td>\n",
       "      <td>0</td>\n",
       "      <td>0</td>\n",
       "      <td>0</td>\n",
       "      <td>0</td>\n",
       "      <td>0</td>\n",
       "      <td>0</td>\n",
       "      <td>0</td>\n",
       "    </tr>\n",
       "    <tr>\n",
       "      <th>7</th>\n",
       "      <td>2.0</td>\n",
       "      <td>2.0</td>\n",
       "      <td>1152.0</td>\n",
       "      <td>1</td>\n",
       "      <td>0</td>\n",
       "      <td>0</td>\n",
       "      <td>0</td>\n",
       "      <td>0</td>\n",
       "      <td>0</td>\n",
       "      <td>0</td>\n",
       "      <td>...</td>\n",
       "      <td>0</td>\n",
       "      <td>0</td>\n",
       "      <td>0</td>\n",
       "      <td>0</td>\n",
       "      <td>0</td>\n",
       "      <td>0</td>\n",
       "      <td>0</td>\n",
       "      <td>0</td>\n",
       "      <td>0</td>\n",
       "      <td>0</td>\n",
       "    </tr>\n",
       "  </tbody>\n",
       "</table>\n",
       "<p>5 rows × 2270 columns</p>\n",
       "</div>"
      ],
      "text/plain": [
       "   bed  bath  house_size  Aberdeen New Jersey  Abington Massachusetts  \\\n",
       "1  2.0   3.0      1284.0                    1                       0   \n",
       "2  4.0   3.0      1860.0                    1                       0   \n",
       "3  3.0   3.0      1883.0                    1                       0   \n",
       "6  2.0   2.0      1152.0                    1                       0   \n",
       "7  2.0   2.0      1152.0                    1                       0   \n",
       "\n",
       "   Abington Pennsylvania  Absecon New Jersey  Acton Maine  \\\n",
       "1                      0                   0            0   \n",
       "2                      0                   0            0   \n",
       "3                      0                   0            0   \n",
       "6                      0                   0            0   \n",
       "7                      0                   0            0   \n",
       "\n",
       "   Acton Massachusetts  Acushnet Massachusetts  ...  Yabucoa Puerto Rico  \\\n",
       "1                    0                       0  ...                    0   \n",
       "2                    0                       0  ...                    0   \n",
       "3                    0                       0  ...                    0   \n",
       "6                    0                       0  ...                    0   \n",
       "7                    0                       0  ...                    0   \n",
       "\n",
       "   Yardley Pennsylvania  Yarmouth Maine  Yarmouth Massachusetts  \\\n",
       "1                     0               0                       0   \n",
       "2                     0               0                       0   \n",
       "3                     0               0                       0   \n",
       "6                     0               0                       0   \n",
       "7                     0               0                       0   \n",
       "\n",
       "   Yarmouth Port Massachusetts  Yauco Puerto Rico  Yeadon Pennsylvania  \\\n",
       "1                            0                  0                    0   \n",
       "2                            0                  0                    0   \n",
       "3                            0                  0                    0   \n",
       "6                            0                  0                    0   \n",
       "7                            0                  0                    0   \n",
       "\n",
       "   Yonkers New York  York Maine  Yorktown Heights New York  \n",
       "1                 0           0                          0  \n",
       "2                 0           0                          0  \n",
       "3                 0           0                          0  \n",
       "6                 0           0                          0  \n",
       "7                 0           0                          0  \n",
       "\n",
       "[5 rows x 2270 columns]"
      ]
     },
     "execution_count": 42,
     "metadata": {},
     "output_type": "execute_result"
    }
   ],
   "source": [
    "X = df12.drop(['price'], axis='columns')\n",
    "X.head()"
   ]
  },
  {
   "cell_type": "code",
   "execution_count": 43,
   "id": "d5306280",
   "metadata": {},
   "outputs": [
    {
     "data": {
      "text/plain": [
       "1         385000.0\n",
       "2         564900.0\n",
       "3         550000.0\n",
       "6         300000.0\n",
       "7         300000.0\n",
       "            ...   \n",
       "445145    479000.0\n",
       "445149    599900.0\n",
       "445151    560000.0\n",
       "445152    625000.0\n",
       "445155    799000.0\n",
       "Name: price, Length: 259390, dtype: float64"
      ]
     },
     "execution_count": 43,
     "metadata": {},
     "output_type": "execute_result"
    }
   ],
   "source": [
    "y = df12.price\n",
    "y"
   ]
  },
  {
   "cell_type": "code",
   "execution_count": 44,
   "id": "dac1d3e1",
   "metadata": {},
   "outputs": [],
   "source": [
    "# Method 1 to split Data\n",
    "from sklearn.model_selection import train_test_split\n",
    "\n",
    "X_train, X_test, y_train, y_test = train_test_split(X, y, random_state=10)\n"
   ]
  },
  {
   "cell_type": "code",
   "execution_count": 57,
   "id": "c61bab44",
   "metadata": {},
   "outputs": [
    {
     "name": "stdout",
     "output_type": "stream",
     "text": [
      "0.6646074483933984\n",
      "95.09166979789734 sec\n"
     ]
    }
   ],
   "source": [
    "from sklearn.linear_model import LinearRegression\n",
    "\n",
    "start = time.time()\n",
    "\n",
    "lr = LinearRegression()\n",
    "lr.fit(X_train, y_train)\n",
    "lr_accuracy = lr.score(X_test, y_test)\n",
    "\n",
    "end = time.time()\n",
    "\n",
    "print(lr_accuracy)\n",
    "print((end - start), \"sec\")"
   ]
  },
  {
   "cell_type": "code",
   "execution_count": 46,
   "id": "039c8b34",
   "metadata": {},
   "outputs": [],
   "source": [
    "# Method 2\n",
    "from sklearn.model_selection import ShuffleSplit\n",
    "from sklearn.model_selection import cross_val_score\n",
    "\n",
    "cv = ShuffleSplit(n_splits=10, test_size=0.2, random_state=10)\n",
    "\n"
   ]
  },
  {
   "cell_type": "code",
   "execution_count": 47,
   "id": "a2b9621d",
   "metadata": {},
   "outputs": [
    {
     "name": "stdout",
     "output_type": "stream",
     "text": [
      "0.6643261798803953\n",
      "1234883.0833435059 ms\n"
     ]
    }
   ],
   "source": [
    "from sklearn.linear_model import LinearRegression\n",
    "\n",
    "start = time.time()\n",
    "\n",
    "lrr = LinearRegression()\n",
    "lrr_accuracy = np.mean(cross_val_score(lr, X, y, cv=cv))\n",
    "\n",
    "end = time.time()\n",
    "\n",
    "print(lrr_accuracy)\n",
    "print((end - start) * 10**3, \"ms\")"
   ]
  },
  {
   "cell_type": "code",
   "execution_count": 61,
   "id": "70ba5509",
   "metadata": {},
   "outputs": [],
   "source": [
    "# Predict Price\n",
    "def predict_price(bed, bath, house_size, location ):\n",
    "    loc_index = np.where(X.columns == location)[0][0]\n",
    "    \n",
    "    x = np.zeros(len(X.columns))\n",
    "    x[0] = bed\n",
    "    x[1] = bath\n",
    "    x[2] = house_size\n",
    "    \n",
    "    if loc_index > 1:\n",
    "        x[loc_index] = 1\n",
    "        \n",
    "    return lr.predict([x])[0]"
   ]
  },
  {
   "cell_type": "code",
   "execution_count": 64,
   "id": "76c6706f",
   "metadata": {},
   "outputs": [
    {
     "data": {
      "text/plain": [
       "Index(['bed', 'bath', 'house_size', 'Aberdeen New Jersey',\n",
       "       'Abington Massachusetts', 'Abington Pennsylvania', 'Absecon New Jersey',\n",
       "       'Acton Maine', 'Acton Massachusetts', 'Acushnet Massachusetts',\n",
       "       ...\n",
       "       'Yabucoa Puerto Rico', 'Yardley Pennsylvania', 'Yarmouth Maine',\n",
       "       'Yarmouth Massachusetts', 'Yarmouth Port Massachusetts',\n",
       "       'Yauco Puerto Rico', 'Yeadon Pennsylvania', 'Yonkers New York',\n",
       "       'York Maine', 'Yorktown Heights New York'],\n",
       "      dtype='object', length=2270)"
      ]
     },
     "execution_count": 64,
     "metadata": {},
     "output_type": "execute_result"
    }
   ],
   "source": [
    "X.columns"
   ]
  },
  {
   "cell_type": "code",
   "execution_count": 73,
   "id": "5ea02bae",
   "metadata": {},
   "outputs": [
    {
     "data": {
      "text/plain": [
       "249864.1883342784"
      ]
     },
     "execution_count": 73,
     "metadata": {},
     "output_type": "execute_result"
    }
   ],
   "source": [
    "predict_price(bed=4, bath=3, house_size=1000, location='Aberdeen New Jersey')"
   ]
  },
  {
   "cell_type": "code",
   "execution_count": 76,
   "id": "282d33ce",
   "metadata": {},
   "outputs": [
    {
     "data": {
      "text/plain": [
       "131082.45996568375"
      ]
     },
     "execution_count": 76,
     "metadata": {},
     "output_type": "execute_result"
    }
   ],
   "source": [
    "predict_price(bed=6, bath=3, house_size=1000, location='Aberdeen New Jersey')"
   ]
  },
  {
   "cell_type": "code",
   "execution_count": 67,
   "id": "7498862f",
   "metadata": {},
   "outputs": [
    {
     "data": {
      "text/plain": [
       "92333.82803726906"
      ]
     },
     "execution_count": 67,
     "metadata": {},
     "output_type": "execute_result"
    }
   ],
   "source": [
    "predict_price(5, 3, 1000, 'Yeadon Pennsylvania')"
   ]
  },
  {
   "cell_type": "code",
   "execution_count": 49,
   "id": "83a00516",
   "metadata": {},
   "outputs": [],
   "source": [
    "# from sklearn.linear_model import Lasso\n",
    "# import numpy as np\n",
    "\n",
    "# np.mean(cross_val_score(Lasso(), X, y, cv=cv))"
   ]
  },
  {
   "cell_type": "code",
   "execution_count": 50,
   "id": "17b3fff1",
   "metadata": {},
   "outputs": [],
   "source": [
    "# from sklearn.linear_model import Ridge\n",
    "\n",
    "# np.mean(cross_val_score(Ridge(), X, y, cv=cv))"
   ]
  },
  {
   "cell_type": "code",
   "execution_count": 51,
   "id": "3ababfed",
   "metadata": {},
   "outputs": [
    {
     "data": {
      "text/plain": [
       "'\\nfrom sklearn.linear_model import LogisticRegression\\n\\nlogReg = LogisticRegression()\\nlogReg.fit(X_train, y_train)\\nridge.score(X_test, y_test)'"
      ]
     },
     "execution_count": 51,
     "metadata": {},
     "output_type": "execute_result"
    }
   ],
   "source": [
    "# Insufficient Memory Error.....\n",
    "'''\n",
    "from sklearn.linear_model import LogisticRegression\n",
    "\n",
    "logReg = LogisticRegression()\n",
    "logReg.fit(X_train, y_train)\n",
    "ridge.score(X_test, y_test)'''\n"
   ]
  }
 ],
 "metadata": {
  "kernelspec": {
   "display_name": "Python 3 (ipykernel)",
   "language": "python",
   "name": "python3"
  },
  "language_info": {
   "codemirror_mode": {
    "name": "ipython",
    "version": 3
   },
   "file_extension": ".py",
   "mimetype": "text/x-python",
   "name": "python",
   "nbconvert_exporter": "python",
   "pygments_lexer": "ipython3",
   "version": "3.9.7"
  }
 },
 "nbformat": 4,
 "nbformat_minor": 5
}
